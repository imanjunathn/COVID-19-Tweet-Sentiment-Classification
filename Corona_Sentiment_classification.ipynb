{
  "nbformat": 4,
  "nbformat_minor": 0,
  "metadata": {
    "accelerator": "GPU",
    "colab": {
      "name": "Corona_Sentiment_classification.ipynb",
      "provenance": [],
      "collapsed_sections": []
    },
    "kernelspec": {
      "display_name": "Python 3",
      "name": "python3"
    }
  },
  "cells": [
    {
      "cell_type": "code",
      "metadata": {
        "id": "Dg2jIKjDeXAp",
        "colab": {
          "base_uri": "https://localhost:8080/"
        },
        "outputId": "2fd9d0bd-808b-4ce0-9657-802c9d496045"
      },
      "source": [
        "from google.colab import drive\n",
        "drive.mount('/content/drive/',force_remount=True)"
      ],
      "execution_count": 6,
      "outputs": [
        {
          "output_type": "stream",
          "text": [
            "Mounted at /content/drive/\n"
          ],
          "name": "stdout"
        }
      ]
    },
    {
      "cell_type": "code",
      "metadata": {
        "id": "6OmOj_Ztu-D5"
      },
      "source": [
        "import pandas as pd\n",
        "import numpy as np\n",
        "import os\n",
        "import matplotlib.pyplot as plt\n",
        "%matplotlib inline\n",
        "\n",
        "import seaborn as sns\n"
      ],
      "execution_count": 7,
      "outputs": []
    },
    {
      "cell_type": "code",
      "metadata": {
        "id": "Fb_d41jPvRZ2"
      },
      "source": [
        "base_path = '/content/drive/My Drive/AIML/Corona_NLP'\n",
        "train_data_path = os.path.join(base_path,'Corona_NLP_train.csv')\n",
        "test_data_path = os.path.join(base_path,'Corona_NLP_test.csv')\n",
        "glove_file_path  = '/content/drive/MyDrive/AIML/Corona_NLP/glove.6B.200d.txt'"
      ],
      "execution_count": 8,
      "outputs": []
    },
    {
      "cell_type": "code",
      "metadata": {
        "id": "1Pqu1CyRvIFp"
      },
      "source": [
        "train_data = pd.read_csv(train_data_path,encoding='latin1')"
      ],
      "execution_count": 64,
      "outputs": []
    },
    {
      "cell_type": "code",
      "metadata": {
        "colab": {
          "base_uri": "https://localhost:8080/",
          "height": 197
        },
        "id": "6LdIJy1bvzw-",
        "outputId": "b869bf85-2cce-476c-878a-dc1967df26f8"
      },
      "source": [
        "train_data.head()"
      ],
      "execution_count": 65,
      "outputs": [
        {
          "output_type": "execute_result",
          "data": {
            "text/html": [
              "<div>\n",
              "<style scoped>\n",
              "    .dataframe tbody tr th:only-of-type {\n",
              "        vertical-align: middle;\n",
              "    }\n",
              "\n",
              "    .dataframe tbody tr th {\n",
              "        vertical-align: top;\n",
              "    }\n",
              "\n",
              "    .dataframe thead th {\n",
              "        text-align: right;\n",
              "    }\n",
              "</style>\n",
              "<table border=\"1\" class=\"dataframe\">\n",
              "  <thead>\n",
              "    <tr style=\"text-align: right;\">\n",
              "      <th></th>\n",
              "      <th>UserName</th>\n",
              "      <th>ScreenName</th>\n",
              "      <th>Location</th>\n",
              "      <th>TweetAt</th>\n",
              "      <th>OriginalTweet</th>\n",
              "      <th>Sentiment</th>\n",
              "    </tr>\n",
              "  </thead>\n",
              "  <tbody>\n",
              "    <tr>\n",
              "      <th>0</th>\n",
              "      <td>3799</td>\n",
              "      <td>48751</td>\n",
              "      <td>London</td>\n",
              "      <td>16-03-2020</td>\n",
              "      <td>@MeNyrbie @Phil_Gahan @Chrisitv https://t.co/i...</td>\n",
              "      <td>Neutral</td>\n",
              "    </tr>\n",
              "    <tr>\n",
              "      <th>1</th>\n",
              "      <td>3800</td>\n",
              "      <td>48752</td>\n",
              "      <td>UK</td>\n",
              "      <td>16-03-2020</td>\n",
              "      <td>advice Talk to your neighbours family to excha...</td>\n",
              "      <td>Positive</td>\n",
              "    </tr>\n",
              "    <tr>\n",
              "      <th>2</th>\n",
              "      <td>3801</td>\n",
              "      <td>48753</td>\n",
              "      <td>Vagabonds</td>\n",
              "      <td>16-03-2020</td>\n",
              "      <td>Coronavirus Australia: Woolworths to give elde...</td>\n",
              "      <td>Positive</td>\n",
              "    </tr>\n",
              "    <tr>\n",
              "      <th>3</th>\n",
              "      <td>3802</td>\n",
              "      <td>48754</td>\n",
              "      <td>NaN</td>\n",
              "      <td>16-03-2020</td>\n",
              "      <td>My food stock is not the only one which is emp...</td>\n",
              "      <td>Positive</td>\n",
              "    </tr>\n",
              "    <tr>\n",
              "      <th>4</th>\n",
              "      <td>3803</td>\n",
              "      <td>48755</td>\n",
              "      <td>NaN</td>\n",
              "      <td>16-03-2020</td>\n",
              "      <td>Me, ready to go at supermarket during the #COV...</td>\n",
              "      <td>Extremely Negative</td>\n",
              "    </tr>\n",
              "  </tbody>\n",
              "</table>\n",
              "</div>"
            ],
            "text/plain": [
              "   UserName  ...           Sentiment\n",
              "0      3799  ...             Neutral\n",
              "1      3800  ...            Positive\n",
              "2      3801  ...            Positive\n",
              "3      3802  ...            Positive\n",
              "4      3803  ...  Extremely Negative\n",
              "\n",
              "[5 rows x 6 columns]"
            ]
          },
          "metadata": {
            "tags": []
          },
          "execution_count": 65
        }
      ]
    },
    {
      "cell_type": "code",
      "metadata": {
        "id": "VLXhhfGY-VOZ"
      },
      "source": [
        "train_data.drop(columns=['UserName','ScreenName','Location','TweetAt'],inplace=True)"
      ],
      "execution_count": 66,
      "outputs": []
    },
    {
      "cell_type": "code",
      "metadata": {
        "id": "99AzQpyc-sVl"
      },
      "source": [
        "train_data['Tween_len'] = train_data.OriginalTweet.str.len()"
      ],
      "execution_count": 67,
      "outputs": []
    },
    {
      "cell_type": "code",
      "metadata": {
        "colab": {
          "base_uri": "https://localhost:8080/",
          "height": 197
        },
        "id": "xaeTG5LQ-2hk",
        "outputId": "aa93196d-a364-4f76-c7b1-a33e55591f30"
      },
      "source": [
        "train_data.head()"
      ],
      "execution_count": 68,
      "outputs": [
        {
          "output_type": "execute_result",
          "data": {
            "text/html": [
              "<div>\n",
              "<style scoped>\n",
              "    .dataframe tbody tr th:only-of-type {\n",
              "        vertical-align: middle;\n",
              "    }\n",
              "\n",
              "    .dataframe tbody tr th {\n",
              "        vertical-align: top;\n",
              "    }\n",
              "\n",
              "    .dataframe thead th {\n",
              "        text-align: right;\n",
              "    }\n",
              "</style>\n",
              "<table border=\"1\" class=\"dataframe\">\n",
              "  <thead>\n",
              "    <tr style=\"text-align: right;\">\n",
              "      <th></th>\n",
              "      <th>OriginalTweet</th>\n",
              "      <th>Sentiment</th>\n",
              "      <th>Tween_len</th>\n",
              "    </tr>\n",
              "  </thead>\n",
              "  <tbody>\n",
              "    <tr>\n",
              "      <th>0</th>\n",
              "      <td>@MeNyrbie @Phil_Gahan @Chrisitv https://t.co/i...</td>\n",
              "      <td>Neutral</td>\n",
              "      <td>111</td>\n",
              "    </tr>\n",
              "    <tr>\n",
              "      <th>1</th>\n",
              "      <td>advice Talk to your neighbours family to excha...</td>\n",
              "      <td>Positive</td>\n",
              "      <td>237</td>\n",
              "    </tr>\n",
              "    <tr>\n",
              "      <th>2</th>\n",
              "      <td>Coronavirus Australia: Woolworths to give elde...</td>\n",
              "      <td>Positive</td>\n",
              "      <td>131</td>\n",
              "    </tr>\n",
              "    <tr>\n",
              "      <th>3</th>\n",
              "      <td>My food stock is not the only one which is emp...</td>\n",
              "      <td>Positive</td>\n",
              "      <td>306</td>\n",
              "    </tr>\n",
              "    <tr>\n",
              "      <th>4</th>\n",
              "      <td>Me, ready to go at supermarket during the #COV...</td>\n",
              "      <td>Extremely Negative</td>\n",
              "      <td>310</td>\n",
              "    </tr>\n",
              "  </tbody>\n",
              "</table>\n",
              "</div>"
            ],
            "text/plain": [
              "                                       OriginalTweet  ... Tween_len\n",
              "0  @MeNyrbie @Phil_Gahan @Chrisitv https://t.co/i...  ...       111\n",
              "1  advice Talk to your neighbours family to excha...  ...       237\n",
              "2  Coronavirus Australia: Woolworths to give elde...  ...       131\n",
              "3  My food stock is not the only one which is emp...  ...       306\n",
              "4  Me, ready to go at supermarket during the #COV...  ...       310\n",
              "\n",
              "[5 rows x 3 columns]"
            ]
          },
          "metadata": {
            "tags": []
          },
          "execution_count": 68
        }
      ]
    },
    {
      "cell_type": "code",
      "metadata": {
        "colab": {
          "base_uri": "https://localhost:8080/",
          "height": 35
        },
        "id": "YLULqME2HsdI",
        "outputId": "bd213c8a-c748-48e2-a6c3-5a7b2f479b63"
      },
      "source": [
        "train_data.OriginalTweet[10]"
      ],
      "execution_count": 69,
      "outputs": [
        {
          "output_type": "execute_result",
          "data": {
            "application/vnd.google.colaboratory.intrinsic+json": {
              "type": "string"
            },
            "text/plain": [
              "\"All month there hasn't been crowding in the supermarkets or restaurants, however reducing all the hours and closing the malls means everyone is now using the same entrance and dependent on a single supermarket. #manila #lockdown #covid2019 #Philippines https://t.co/HxWs9LAnF9\""
            ]
          },
          "metadata": {
            "tags": []
          },
          "execution_count": 69
        }
      ]
    },
    {
      "cell_type": "code",
      "metadata": {
        "colab": {
          "base_uri": "https://localhost:8080/"
        },
        "id": "4HSHhUF3-4sj",
        "outputId": "ab00670e-e07e-4612-9668-b19a4f9eefa3"
      },
      "source": [
        "train_data.shape"
      ],
      "execution_count": 70,
      "outputs": [
        {
          "output_type": "execute_result",
          "data": {
            "text/plain": [
              "(41157, 3)"
            ]
          },
          "metadata": {
            "tags": []
          },
          "execution_count": 70
        }
      ]
    },
    {
      "cell_type": "code",
      "metadata": {
        "colab": {
          "base_uri": "https://localhost:8080/"
        },
        "id": "fI4Exz-s-8G8",
        "outputId": "def100e5-a4a5-4b4e-bdf9-f6f97acb3a42"
      },
      "source": [
        "train_data.isna().sum()"
      ],
      "execution_count": 71,
      "outputs": [
        {
          "output_type": "execute_result",
          "data": {
            "text/plain": [
              "OriginalTweet    0\n",
              "Sentiment        0\n",
              "Tween_len        0\n",
              "dtype: int64"
            ]
          },
          "metadata": {
            "tags": []
          },
          "execution_count": 71
        }
      ]
    },
    {
      "cell_type": "code",
      "metadata": {
        "colab": {
          "base_uri": "https://localhost:8080/",
          "height": 35
        },
        "id": "o4ARxQxf_BZD",
        "outputId": "6ccd422c-8bb9-44ae-a76b-3838a9b2eb2a"
      },
      "source": [
        "train_data.OriginalTweet[0]"
      ],
      "execution_count": 72,
      "outputs": [
        {
          "output_type": "execute_result",
          "data": {
            "application/vnd.google.colaboratory.intrinsic+json": {
              "type": "string"
            },
            "text/plain": [
              "'@MeNyrbie @Phil_Gahan @Chrisitv https://t.co/iFz9FAn2Pa and https://t.co/xX6ghGFzCC and https://t.co/I2NlzdxNo8'"
            ]
          },
          "metadata": {
            "tags": []
          },
          "execution_count": 72
        }
      ]
    },
    {
      "cell_type": "code",
      "metadata": {
        "colab": {
          "base_uri": "https://localhost:8080/"
        },
        "id": "4gxc5aOc_I_C",
        "outputId": "d6ca842c-04be-4d73-ed89-2e7366b1cb10"
      },
      "source": [
        "train_data.Sentiment.unique()"
      ],
      "execution_count": 73,
      "outputs": [
        {
          "output_type": "execute_result",
          "data": {
            "text/plain": [
              "array(['Neutral', 'Positive', 'Extremely Negative', 'Negative',\n",
              "       'Extremely Positive'], dtype=object)"
            ]
          },
          "metadata": {
            "tags": []
          },
          "execution_count": 73
        }
      ]
    },
    {
      "cell_type": "code",
      "metadata": {
        "colab": {
          "base_uri": "https://localhost:8080/"
        },
        "id": "2kSZ_PHJ_Pmh",
        "outputId": "505446e2-94be-443c-bfd3-4e60c6dcc2f7"
      },
      "source": [
        "train_data.Sentiment.value_counts()"
      ],
      "execution_count": 74,
      "outputs": [
        {
          "output_type": "execute_result",
          "data": {
            "text/plain": [
              "Positive              11422\n",
              "Negative               9917\n",
              "Neutral                7713\n",
              "Extremely Positive     6624\n",
              "Extremely Negative     5481\n",
              "Name: Sentiment, dtype: int64"
            ]
          },
          "metadata": {
            "tags": []
          },
          "execution_count": 74
        }
      ]
    },
    {
      "cell_type": "code",
      "metadata": {
        "colab": {
          "base_uri": "https://localhost:8080/",
          "height": 546
        },
        "id": "sgpjrJH__ZXY",
        "outputId": "7d5a3555-3527-43c9-db4a-20bc41cdb531"
      },
      "source": [
        "plt.figure(figsize=(10,8))\n",
        "sns.countplot(train_data.Sentiment)"
      ],
      "execution_count": 75,
      "outputs": [
        {
          "output_type": "stream",
          "text": [
            "/usr/local/lib/python3.6/dist-packages/seaborn/_decorators.py:43: FutureWarning: Pass the following variable as a keyword arg: x. From version 0.12, the only valid positional argument will be `data`, and passing other arguments without an explicit keyword will result in an error or misinterpretation.\n",
            "  FutureWarning\n"
          ],
          "name": "stderr"
        },
        {
          "output_type": "execute_result",
          "data": {
            "text/plain": [
              "<matplotlib.axes._subplots.AxesSubplot at 0x7f3f737be748>"
            ]
          },
          "metadata": {
            "tags": []
          },
          "execution_count": 75
        },
        {
          "output_type": "display_data",
          "data": {
            "image/png": "[encoded data removed]",
            "text/plain": [
              "<Figure size 720x576 with 1 Axes>"
            ]
          },
          "metadata": {
            "tags": [],
            "needs_background": "light"
          }
        }
      ]
    },
    {
      "cell_type": "code",
      "metadata": {
        "id": "1xpSRUa8_z59"
      },
      "source": [
        "sentiment_replace_dict = {'Positive':0,'Negative':1,'Neutral':2,'Extremely Positive':0,'Extremely Negative':1}\n",
        "train_data.replace({'Sentiment':sentiment_replace_dict},inplace=True)"
      ],
      "execution_count": 76,
      "outputs": []
    },
    {
      "cell_type": "code",
      "metadata": {
        "colab": {
          "base_uri": "https://localhost:8080/",
          "height": 328
        },
        "id": "j61_XMmpAxY1",
        "outputId": "c0d8fc00-ad7b-48a3-ea21-e4e91f9ab11e"
      },
      "source": [
        "sns.countplot(train_data.Sentiment)"
      ],
      "execution_count": 42,
      "outputs": [
        {
          "output_type": "stream",
          "text": [
            "/usr/local/lib/python3.6/dist-packages/seaborn/_decorators.py:43: FutureWarning: Pass the following variable as a keyword arg: x. From version 0.12, the only valid positional argument will be `data`, and passing other arguments without an explicit keyword will result in an error or misinterpretation.\n",
            "  FutureWarning\n"
          ],
          "name": "stderr"
        },
        {
          "output_type": "execute_result",
          "data": {
            "text/plain": [
              "<matplotlib.axes._subplots.AxesSubplot at 0x7f3f7fc2b1d0>"
            ]
          },
          "metadata": {
            "tags": []
          },
          "execution_count": 42
        },
        {
          "output_type": "display_data",
          "data": {
            "image/png": "[encoded data removed]",
            "text/plain": [
              "<Figure size 432x288 with 1 Axes>"
            ]
          },
          "metadata": {
            "tags": [],
            "needs_background": "light"
          }
        }
      ]
    },
    {
      "cell_type": "code",
      "metadata": {
        "id": "DliNHwXIA4jP"
      },
      "source": [
        "max_features = 100000\n",
        "maxlen = 50\n",
        "embedding_size = 200"
      ],
      "execution_count": 43,
      "outputs": []
    },
    {
      "cell_type": "code",
      "metadata": {
        "colab": {
          "base_uri": "https://localhost:8080/"
        },
        "id": "QoeoEAykBfeH",
        "outputId": "5d50be72-a7a7-44b0-acce-5c9eb3601a56"
      },
      "source": [
        "from tensorflow.keras.preprocessing.text import  Tokenizer\n",
        "import nltk\n",
        "import nltk\n",
        "nltk.download('stopwords')\n",
        "nltk.download('wordnet')\n",
        "nltk.download('punkt')\n",
        "nltk.download('averaged_perceptron_tagger') \n",
        "from nltk.corpus import stopwords\n",
        "from nltk.tokenize import word_tokenize  \n",
        "import re,unicodedata\n"
      ],
      "execution_count": 44,
      "outputs": [
        {
          "output_type": "stream",
          "text": [
            "[nltk_data] Downloading package stopwords to /root/nltk_data...\n",
            "[nltk_data]   Package stopwords is already up-to-date!\n",
            "[nltk_data] Downloading package wordnet to /root/nltk_data...\n",
            "[nltk_data]   Package wordnet is already up-to-date!\n",
            "[nltk_data] Downloading package punkt to /root/nltk_data...\n",
            "[nltk_data]   Package punkt is already up-to-date!\n",
            "[nltk_data] Downloading package averaged_perceptron_tagger to\n",
            "[nltk_data]     /root/nltk_data...\n",
            "[nltk_data]   Package averaged_perceptron_tagger is already up-to-\n",
            "[nltk_data]       date!\n"
          ],
          "name": "stdout"
        }
      ]
    },
    {
      "cell_type": "code",
      "metadata": {
        "id": "bAXIwKKhP5sh"
      },
      "source": [
        "def remove_non_ascii(words):\n",
        "    \"\"\"Remove non-ASCII characters from list of tokenized words\"\"\"\n",
        "    new_words = []\n",
        "    for word in words:\n",
        "        new_word = unicodedata.normalize('NFKD', word).encode('ascii', 'ignore').decode('utf-8', 'ignore')\n",
        "        new_words.append(new_word)\n",
        "    return new_words"
      ],
      "execution_count": 45,
      "outputs": []
    },
    {
      "cell_type": "code",
      "metadata": {
        "id": "YTf9AyEtQOJB"
      },
      "source": [
        "def to_lowercase(words):\n",
        "    \"\"\"Convert all characters to lowercase from list of tokenized words\"\"\"\n",
        "    new_words = []\n",
        "    for word in words:\n",
        "        new_word = word.lower()\n",
        "        new_words.append(new_word)\n",
        "    return new_words"
      ],
      "execution_count": 46,
      "outputs": []
    },
    {
      "cell_type": "code",
      "metadata": {
        "id": "2nh3LF6lQeTp"
      },
      "source": [
        "def remove_punctuation(words):\n",
        "    \"\"\"Remove punctuation from list of tokenized words\"\"\"\n",
        "    new_words = []\n",
        "    for word in words:\n",
        "      pattern_ = '[^a-zA-z\\s]'\n",
        "      new_word = re.sub(pattern_, '', word)\n",
        "      if new_word != '':\n",
        "        new_words.append(new_word)\n",
        "    return new_words\n"
      ],
      "execution_count": 47,
      "outputs": []
    },
    {
      "cell_type": "code",
      "metadata": {
        "id": "76SkH5heRHZq"
      },
      "source": [
        "\"\"\"Remove urls from samples\"\"\"\n",
        "def remove_urls(sample):\n",
        "  urlPattern = '\\s*https?:\\/\\/.*[\\r\\n]*'\n",
        "  sample =  re.sub(urlPattern,'',sample,flags=re.MULTILINE)\n",
        "  return sample"
      ],
      "execution_count": 48,
      "outputs": []
    },
    {
      "cell_type": "code",
      "metadata": {
        "id": "MNBX7qokPscs"
      },
      "source": [
        "def normalize(words):\n",
        "    words = remove_non_ascii(words)\n",
        "    words = to_lowercase(words)\n",
        "    words = remove_punctuation(words)\n",
        "    return words"
      ],
      "execution_count": 49,
      "outputs": []
    },
    {
      "cell_type": "code",
      "metadata": {
        "id": "pdlFe5GcBoRH"
      },
      "source": [
        "def clean_text(df):\n",
        "  data =df.copy()\n",
        "\n",
        "  url_removed_data = [remove_urls(sample) for sample in data['OriginalTweet'].values]\n",
        "\n",
        "  final_senteance = []\n",
        "  lemmatizer = nltk.stem.WordNetLemmatizer()\n",
        "  stop_words = stopwords.words('english')\n",
        "  for sentence in url_removed_data:\n",
        "    word_token = word_tokenize(sentence)\n",
        "    normalized_words = normalize(word_token)\n",
        "    \n",
        "    filtered_sentence_ = []\n",
        "    filtered_sentence = ' '\n",
        "    for w in normalized_words:  \n",
        "        if w not in stop_words:  \n",
        "          lemmatized_word = lemmatizer.lemmatize(w)\n",
        "          filtered_sentence_.append(lemmatized_word)\n",
        "    final_sentence = filtered_sentence.join(filtered_sentence_)\n",
        "    final_senteance.append(final_sentence)\n",
        "  data['OriginalTweet_cleaned'] = final_senteance\n",
        "\n",
        "  return data"
      ],
      "execution_count": 50,
      "outputs": []
    },
    {
      "cell_type": "code",
      "metadata": {
        "id": "hMTDpYliDJKr"
      },
      "source": [
        "cleaned_data = clean_text(train_data)"
      ],
      "execution_count": 51,
      "outputs": []
    },
    {
      "cell_type": "code",
      "metadata": {
        "colab": {
          "base_uri": "https://localhost:8080/"
        },
        "id": "B0L_NZjzDj-K",
        "outputId": "fb6e44e4-61d4-4ccc-bc84-8a30870fbade"
      },
      "source": [
        "print(cleaned_data.OriginalTweet[2])\n",
        "print(cleaned_data.OriginalTweet_cleaned[2])"
      ],
      "execution_count": 52,
      "outputs": [
        {
          "output_type": "stream",
          "text": [
            "Coronavirus Australia: Woolworths to give elderly, disabled dedicated shopping hours amid COVID-19 outbreak https://t.co/bInCA9Vp8P\n",
            "coronavirus australia woolworth give elderly disabled dedicated shopping hour amid covid outbreak\n"
          ],
          "name": "stdout"
        }
      ]
    },
    {
      "cell_type": "code",
      "metadata": {
        "colab": {
          "base_uri": "https://localhost:8080/",
          "height": 197
        },
        "id": "2BaZfRGrQfLj",
        "outputId": "8e5439bb-525d-40c8-e151-1ce53017c1d0"
      },
      "source": [
        "cleaned_data['celened_tweet_len'] = cleaned_data.OriginalTweet_cleaned.str.len()\n",
        "cleaned_data.head()"
      ],
      "execution_count": 165,
      "outputs": [
        {
          "output_type": "execute_result",
          "data": {
            "text/html": [
              "<div>\n",
              "<style scoped>\n",
              "    .dataframe tbody tr th:only-of-type {\n",
              "        vertical-align: middle;\n",
              "    }\n",
              "\n",
              "    .dataframe tbody tr th {\n",
              "        vertical-align: top;\n",
              "    }\n",
              "\n",
              "    .dataframe thead th {\n",
              "        text-align: right;\n",
              "    }\n",
              "</style>\n",
              "<table border=\"1\" class=\"dataframe\">\n",
              "  <thead>\n",
              "    <tr style=\"text-align: right;\">\n",
              "      <th></th>\n",
              "      <th>OriginalTweet</th>\n",
              "      <th>Sentiment</th>\n",
              "      <th>Tween_len</th>\n",
              "      <th>OriginalTweet_cleaned</th>\n",
              "      <th>celened_tweet_len</th>\n",
              "    </tr>\n",
              "  </thead>\n",
              "  <tbody>\n",
              "    <tr>\n",
              "      <th>0</th>\n",
              "      <td>@MeNyrbie @Phil_Gahan @Chrisitv https://t.co/i...</td>\n",
              "      <td>2</td>\n",
              "      <td>111</td>\n",
              "      <td>menyrbie phil_gahan chrisitv</td>\n",
              "      <td>28</td>\n",
              "    </tr>\n",
              "    <tr>\n",
              "      <th>1</th>\n",
              "      <td>advice Talk to your neighbours family to excha...</td>\n",
              "      <td>0</td>\n",
              "      <td>237</td>\n",
              "      <td>advice talk neighbour family exchange phone nu...</td>\n",
              "      <td>185</td>\n",
              "    </tr>\n",
              "    <tr>\n",
              "      <th>2</th>\n",
              "      <td>Coronavirus Australia: Woolworths to give elde...</td>\n",
              "      <td>0</td>\n",
              "      <td>131</td>\n",
              "      <td>coronavirus australia woolworth give elderly d...</td>\n",
              "      <td>97</td>\n",
              "    </tr>\n",
              "    <tr>\n",
              "      <th>3</th>\n",
              "      <td>My food stock is not the only one which is emp...</td>\n",
              "      <td>0</td>\n",
              "      <td>306</td>\n",
              "      <td>food stock one empty please nt panic enough fo...</td>\n",
              "      <td>171</td>\n",
              "    </tr>\n",
              "    <tr>\n",
              "      <th>4</th>\n",
              "      <td>Me, ready to go at supermarket during the #COV...</td>\n",
              "      <td>1</td>\n",
              "      <td>310</td>\n",
              "      <td>ready go supermarket covid outbreak paranoid f...</td>\n",
              "      <td>184</td>\n",
              "    </tr>\n",
              "  </tbody>\n",
              "</table>\n",
              "</div>"
            ],
            "text/plain": [
              "                                       OriginalTweet  ...  celened_tweet_len\n",
              "0  @MeNyrbie @Phil_Gahan @Chrisitv https://t.co/i...  ...                 28\n",
              "1  advice Talk to your neighbours family to excha...  ...                185\n",
              "2  Coronavirus Australia: Woolworths to give elde...  ...                 97\n",
              "3  My food stock is not the only one which is emp...  ...                171\n",
              "4  Me, ready to go at supermarket during the #COV...  ...                184\n",
              "\n",
              "[5 rows x 5 columns]"
            ]
          },
          "metadata": {
            "tags": []
          },
          "execution_count": 165
        }
      ]
    },
    {
      "cell_type": "code",
      "metadata": {
        "id": "SIra4WQZTcLP"
      },
      "source": [
        "final_df = cleaned_data[cleaned_data['celened_tweet_len'] >1 ]"
      ],
      "execution_count": 166,
      "outputs": []
    },
    {
      "cell_type": "code",
      "metadata": {
        "colab": {
          "base_uri": "https://localhost:8080/"
        },
        "id": "b1zBcDcUT9Sl",
        "outputId": "5b76d0fd-3613-4291-dac4-44575a236070"
      },
      "source": [
        "final_df.shape,cleaned_data.shape"
      ],
      "execution_count": 167,
      "outputs": [
        {
          "output_type": "execute_result",
          "data": {
            "text/plain": [
              "((41067, 5), (41157, 5))"
            ]
          },
          "metadata": {
            "tags": []
          },
          "execution_count": 167
        }
      ]
    },
    {
      "cell_type": "code",
      "metadata": {
        "id": "1ddlBUVHDvhl"
      },
      "source": [
        "def prepareSequences(df):\n",
        "  data = df.copy()\n",
        "  tokenizer = Tokenizer(num_words=max_features,split=' ')\n",
        "  tokenizer.fit_on_texts(data['OriginalTweet_cleaned'].values)\n",
        "  sequences = tokenizer.texts_to_sequences(data['OriginalTweet_cleaned'].values)\n",
        "  return (sequences,tokenizer)"
      ],
      "execution_count": 168,
      "outputs": []
    },
    {
      "cell_type": "code",
      "metadata": {
        "id": "Lpo_Qm6BGhsq"
      },
      "source": [
        "sequence_data,tokenizer = prepareSequences(final_df)"
      ],
      "execution_count": 169,
      "outputs": []
    },
    {
      "cell_type": "code",
      "metadata": {
        "colab": {
          "base_uri": "https://localhost:8080/"
        },
        "id": "uEwqlPxqGpIg",
        "outputId": "a2eb4149-9c88-415f-c70d-66eb9bd96168"
      },
      "source": [
        "print(sequence_data[0])"
      ],
      "execution_count": 170,
      "outputs": [
        {
          "output_type": "stream",
          "text": [
            "[20394, 6136, 20395, 11361]\n"
          ],
          "name": "stdout"
        }
      ]
    },
    {
      "cell_type": "code",
      "metadata": {
        "id": "aoTrE62uRY9h"
      },
      "source": [
        "from tensorflow.keras.preprocessing.sequence import pad_sequences\n",
        "after_padding_sequence = pad_sequences(sequence_data,maxlen=maxlen,padding='post',truncating='post')"
      ],
      "execution_count": 171,
      "outputs": []
    },
    {
      "cell_type": "code",
      "metadata": {
        "colab": {
          "base_uri": "https://localhost:8080/"
        },
        "id": "uEKjmK3mZzMt",
        "outputId": "5146c618-3e29-41c0-8065-daa12e6acead"
      },
      "source": [
        "after_padding_sequence[0]"
      ],
      "execution_count": 172,
      "outputs": [
        {
          "output_type": "execute_result",
          "data": {
            "text/plain": [
              "array([20394,  6136, 20395, 11361,     0,     0,     0,     0,     0,\n",
              "           0,     0,     0,     0,     0,     0,     0,     0,     0,\n",
              "           0,     0,     0,     0,     0,     0,     0,     0,     0,\n",
              "           0,     0,     0,     0,     0,     0,     0,     0,     0,\n",
              "           0,     0,     0,     0,     0,     0,     0,     0,     0,\n",
              "           0,     0,     0,     0,     0], dtype=int32)"
            ]
          },
          "metadata": {
            "tags": []
          },
          "execution_count": 172
        }
      ]
    },
    {
      "cell_type": "code",
      "metadata": {
        "colab": {
          "base_uri": "https://localhost:8080/"
        },
        "id": "yGgx6bm3CW5j",
        "outputId": "a1f523ea-891d-45a0-eedf-525acdfe6ca3"
      },
      "source": [
        "num_words = len(tokenizer.word_index)+1\n",
        "num_words"
      ],
      "execution_count": 173,
      "outputs": [
        {
          "output_type": "execute_result",
          "data": {
            "text/plain": [
              "52443"
            ]
          },
          "metadata": {
            "tags": []
          },
          "execution_count": 173
        }
      ]
    },
    {
      "cell_type": "code",
      "metadata": {
        "id": "qISB-nyCGuXF"
      },
      "source": [
        "\"\"\" Prepare embeding matrix using glove 200\"\"\"\n",
        "\n",
        "embeddings = {}\n",
        "for  w in open(glove_file_path):\n",
        "  word  = w.split(\" \")[0]\n",
        "  emdb = w.split(\" \")[1:]\n",
        "  emdb = np.asarray(emdb,dtype='float32')\n",
        "  embeddings[word] = emdb\n",
        "\n",
        "embedding_matrx = np.zeros((num_words,embedding_size))\n",
        "for word,i in tokenizer.word_index.items():\n",
        "  if i < num_words:\n",
        "    embdg_vector = embeddings.get(word)\n",
        "    if embdg_vector is not None:\n",
        "      embedding_matrx[i] = embdg_vector"
      ],
      "execution_count": 174,
      "outputs": []
    },
    {
      "cell_type": "code",
      "metadata": {
        "id": "iISxdig-DHV0"
      },
      "source": [
        "from tensorflow.keras.models import Sequential\n",
        "from tensorflow.keras.callbacks import EarlyStopping,ReduceLROnPlateau\n",
        "from tensorflow.keras.layers import Embedding,Dense,Bidirectional,LSTM, Dropout,SeparableConv1D,Flatten\n",
        "from tensorflow.keras.utils import  plot_model\n",
        "import tensorflow"
      ],
      "execution_count": 175,
      "outputs": []
    },
    {
      "cell_type": "code",
      "metadata": {
        "colab": {
          "base_uri": "https://localhost:8080/"
        },
        "id": "5VL6xAs12rHQ",
        "outputId": "4a125a05-ebeb-4f85-fe6a-2d3952f57a1b"
      },
      "source": [
        "embedding_size"
      ],
      "execution_count": 176,
      "outputs": [
        {
          "output_type": "execute_result",
          "data": {
            "text/plain": [
              "200"
            ]
          },
          "metadata": {
            "tags": []
          },
          "execution_count": 176
        }
      ]
    },
    {
      "cell_type": "code",
      "metadata": {
        "id": "Ftc2ymaIdeEI"
      },
      "source": [
        "from sklearn.model_selection import train_test_split\n",
        "from  tensorflow.keras.utils import to_categorical\n",
        "\n",
        "y =  final_df.Sentiment.values\n",
        "y = to_categorical(y,dtype='int32')\n",
        "\n"
      ],
      "execution_count": 177,
      "outputs": []
    },
    {
      "cell_type": "code",
      "metadata": {
        "id": "oigRyqNi2y0X"
      },
      "source": [
        "X_train,X_test,y_train,y_test = train_test_split(after_padding_sequence,y,test_size=0.2,random_state=42)"
      ],
      "execution_count": 178,
      "outputs": []
    },
    {
      "cell_type": "code",
      "metadata": {
        "colab": {
          "base_uri": "https://localhost:8080/"
        },
        "id": "JlFdzkCmZnIa",
        "outputId": "ccc03080-30a3-40ff-fe9f-3c24e2df3143"
      },
      "source": [
        "print(X_train.shape,y_train.shape)\n",
        "print(X_test.shape,y_test.shape)"
      ],
      "execution_count": 179,
      "outputs": [
        {
          "output_type": "stream",
          "text": [
            "(32853, 50) (32853, 3)\n",
            "(8214, 50) (8214, 3)\n"
          ],
          "name": "stdout"
        }
      ]
    },
    {
      "cell_type": "code",
      "metadata": {
        "id": "Rkm13PocdT1r",
        "colab": {
          "base_uri": "https://localhost:8080/"
        },
        "outputId": "1f69efc1-18fc-4951-b2eb-91670a2bbbf0"
      },
      "source": [
        "\n",
        "model = Sequential()\n",
        "model.add(Embedding(embedding_matrx.shape[0],embedding_size,input_length=maxlen))\n",
        "model.add(Bidirectional(LSTM(196,dropout=0.2,return_sequences=True)))\n",
        "model.add(Flatten())\n",
        "model.add(Dense(100,activation='relu'))\n",
        "model.add(Dropout(0.2))\n",
        "model.add(Dense(y_test.shape[1],activation='softmax'))"
      ],
      "execution_count": 187,
      "outputs": [
        {
          "output_type": "stream",
          "text": [
            "100000 200 50 (52443, 200)\n"
          ],
          "name": "stdout"
        }
      ]
    },
    {
      "cell_type": "code",
      "metadata": {
        "colab": {
          "base_uri": "https://localhost:8080/"
        },
        "id": "eL6exGK27PDy",
        "outputId": "3b101109-5147-4b81-e479-2c000628eab2"
      },
      "source": [
        "model.summary()"
      ],
      "execution_count": 188,
      "outputs": [
        {
          "output_type": "stream",
          "text": [
            "Model: \"sequential_4\"\n",
            "_________________________________________________________________\n",
            "Layer (type)                 Output Shape              Param #   \n",
            "=================================================================\n",
            "embedding_4 (Embedding)      (None, 50, 200)           10488600  \n",
            "_________________________________________________________________\n",
            "bidirectional_4 (Bidirection (None, 50, 392)           622496    \n",
            "_________________________________________________________________\n",
            "flatten_4 (Flatten)          (None, 19600)             0         \n",
            "_________________________________________________________________\n",
            "dense_8 (Dense)              (None, 100)               1960100   \n",
            "_________________________________________________________________\n",
            "dropout_4 (Dropout)          (None, 100)               0         \n",
            "_________________________________________________________________\n",
            "dense_9 (Dense)              (None, 3)                 303       \n",
            "=================================================================\n",
            "Total params: 13,071,499\n",
            "Trainable params: 13,071,499\n",
            "Non-trainable params: 0\n",
            "_________________________________________________________________\n"
          ],
          "name": "stdout"
        }
      ]
    },
    {
      "cell_type": "code",
      "metadata": {
        "id": "jtiMhiuU2Igw"
      },
      "source": [
        "model.layers[0].set_weights([embedding_matrx])\n",
        "model.layers[0].trainable  = False"
      ],
      "execution_count": 189,
      "outputs": []
    },
    {
      "cell_type": "code",
      "metadata": {
        "id": "9ZRq85CedWyP"
      },
      "source": [
        "model.compile(optimizer='adam',loss=tensorflow.losses.categorical_crossentropy,metrics=['accuracy'])"
      ],
      "execution_count": 190,
      "outputs": []
    },
    {
      "cell_type": "code",
      "metadata": {
        "colab": {
          "base_uri": "https://localhost:8080/"
        },
        "id": "EVTbU3EsdbP_",
        "outputId": "5feae2ef-d78b-40c2-82e5-326d2db6ff1c"
      },
      "source": [
        "epochs = 50\n",
        "batch_size = 32\n",
        "history = model.fit(x=X_train,y=y_train,epochs=epochs,batch_size=batch_size,verbose=1,validation_split=0.3,callbacks=[EarlyStopping(monitor='val_loss', patience=3, min_delta=0.0001)])\n",
        "\n"
      ],
      "execution_count": 191,
      "outputs": [
        {
          "output_type": "stream",
          "text": [
            "Epoch 1/50\n",
            "719/719 [==============================] - 12s 13ms/step - loss: 0.8435 - accuracy: 0.6176 - val_loss: 0.7043 - val_accuracy: 0.7020\n",
            "Epoch 2/50\n",
            "719/719 [==============================] - 9s 13ms/step - loss: 0.6700 - accuracy: 0.7211 - val_loss: 0.6630 - val_accuracy: 0.7261\n",
            "Epoch 3/50\n",
            "719/719 [==============================] - 9s 12ms/step - loss: 0.5563 - accuracy: 0.7751 - val_loss: 0.6495 - val_accuracy: 0.7392\n",
            "Epoch 4/50\n",
            "719/719 [==============================] - 9s 12ms/step - loss: 0.4332 - accuracy: 0.8251 - val_loss: 0.6702 - val_accuracy: 0.7509\n",
            "Epoch 5/50\n",
            "719/719 [==============================] - 9s 12ms/step - loss: 0.3079 - accuracy: 0.8812 - val_loss: 0.7960 - val_accuracy: 0.7494\n",
            "Epoch 6/50\n",
            "719/719 [==============================] - 9s 12ms/step - loss: 0.2053 - accuracy: 0.9226 - val_loss: 0.8650 - val_accuracy: 0.7359\n"
          ],
          "name": "stdout"
        }
      ]
    },
    {
      "cell_type": "code",
      "metadata": {
        "colab": {
          "base_uri": "https://localhost:8080/",
          "height": 294
        },
        "id": "_e-q9NZt5HQi",
        "outputId": "159ccba8-8854-458b-f818-7a0a87f5af38"
      },
      "source": [
        "loss = history.history['loss']\n",
        "val_loss = history.history['val_loss']\n",
        "epochs = range(1, len(loss) + 1)\n",
        "plt.plot(epochs, loss, 'y', label='Training loss')\n",
        "plt.plot(epochs, val_loss, 'r', label='Validation loss')\n",
        "plt.title('Training and validation loss')\n",
        "plt.xlabel('Epochs')\n",
        "plt.ylabel('Loss')\n",
        "plt.legend()\n",
        "plt.show()"
      ],
      "execution_count": 192,
      "outputs": [
        {
          "output_type": "display_data",
          "data": {
            "image/png": "[encoded data removed]",
            "text/plain": [
              "<Figure size 432x288 with 1 Axes>"
            ]
          },
          "metadata": {
            "tags": [],
            "needs_background": "dark"
          }
        }
      ]
    },
    {
      "cell_type": "code",
      "metadata": {
        "colab": {
          "base_uri": "https://localhost:8080/",
          "height": 294
        },
        "id": "tYra3nit5Lax",
        "outputId": "eb1621e4-04a4-4991-c815-ae35a9fc3e76"
      },
      "source": [
        "acc = history.history['accuracy']\n",
        "val_acc = history.history['val_accuracy']\n",
        "plt.plot(epochs, acc, 'y', label='Training acc')\n",
        "plt.plot(epochs, val_acc, 'r', label='Validation acc')\n",
        "plt.title('Training and validation accuracy')\n",
        "plt.xlabel('Epochs')\n",
        "plt.ylabel('Accuracy')\n",
        "plt.legend()\n",
        "plt.show()"
      ],
      "execution_count": 193,
      "outputs": [
        {
          "output_type": "display_data",
          "data": {
            "image/png": "[encoded data removed]",
            "text/plain": [
              "<Figure size 432x288 with 1 Axes>"
            ]
          },
          "metadata": {
            "tags": [],
            "needs_background": "dark"
          }
        }
      ]
    },
    {
      "cell_type": "code",
      "metadata": {
        "colab": {
          "base_uri": "https://localhost:8080/"
        },
        "id": "xW8wMg5H5Oz5",
        "outputId": "4892a88e-1209-47b7-c518-0715f46bb9a3"
      },
      "source": [
        "model.evaluate(X_test,y_test)"
      ],
      "execution_count": 194,
      "outputs": [
        {
          "output_type": "stream",
          "text": [
            "257/257 [==============================] - 2s 6ms/step - loss: 0.8567 - accuracy: 0.7350\n"
          ],
          "name": "stdout"
        },
        {
          "output_type": "execute_result",
          "data": {
            "text/plain": [
              "[0.8567007184028625, 0.7349646687507629]"
            ]
          },
          "metadata": {
            "tags": []
          },
          "execution_count": 194
        }
      ]
    },
    {
      "cell_type": "code",
      "metadata": {
        "colab": {
          "base_uri": "https://localhost:8080/",
          "height": 197
        },
        "id": "rVNp635KCckY",
        "outputId": "31c73418-fb6c-48f1-febd-52904f72eeca"
      },
      "source": [
        "# Read testing data\n",
        "test_data = pd.read_csv(test_data_path)\n",
        "test_data.head()"
      ],
      "execution_count": 195,
      "outputs": [
        {
          "output_type": "execute_result",
          "data": {
            "text/html": [
              "<div>\n",
              "<style scoped>\n",
              "    .dataframe tbody tr th:only-of-type {\n",
              "        vertical-align: middle;\n",
              "    }\n",
              "\n",
              "    .dataframe tbody tr th {\n",
              "        vertical-align: top;\n",
              "    }\n",
              "\n",
              "    .dataframe thead th {\n",
              "        text-align: right;\n",
              "    }\n",
              "</style>\n",
              "<table border=\"1\" class=\"dataframe\">\n",
              "  <thead>\n",
              "    <tr style=\"text-align: right;\">\n",
              "      <th></th>\n",
              "      <th>UserName</th>\n",
              "      <th>ScreenName</th>\n",
              "      <th>Location</th>\n",
              "      <th>TweetAt</th>\n",
              "      <th>OriginalTweet</th>\n",
              "      <th>Sentiment</th>\n",
              "    </tr>\n",
              "  </thead>\n",
              "  <tbody>\n",
              "    <tr>\n",
              "      <th>0</th>\n",
              "      <td>1</td>\n",
              "      <td>44953</td>\n",
              "      <td>NYC</td>\n",
              "      <td>02-03-2020</td>\n",
              "      <td>TRENDING: New Yorkers encounter empty supermar...</td>\n",
              "      <td>Extremely Negative</td>\n",
              "    </tr>\n",
              "    <tr>\n",
              "      <th>1</th>\n",
              "      <td>2</td>\n",
              "      <td>44954</td>\n",
              "      <td>Seattle, WA</td>\n",
              "      <td>02-03-2020</td>\n",
              "      <td>When I couldn't find hand sanitizer at Fred Me...</td>\n",
              "      <td>Positive</td>\n",
              "    </tr>\n",
              "    <tr>\n",
              "      <th>2</th>\n",
              "      <td>3</td>\n",
              "      <td>44955</td>\n",
              "      <td>NaN</td>\n",
              "      <td>02-03-2020</td>\n",
              "      <td>Find out how you can protect yourself and love...</td>\n",
              "      <td>Extremely Positive</td>\n",
              "    </tr>\n",
              "    <tr>\n",
              "      <th>3</th>\n",
              "      <td>4</td>\n",
              "      <td>44956</td>\n",
              "      <td>Chicagoland</td>\n",
              "      <td>02-03-2020</td>\n",
              "      <td>#Panic buying hits #NewYork City as anxious sh...</td>\n",
              "      <td>Negative</td>\n",
              "    </tr>\n",
              "    <tr>\n",
              "      <th>4</th>\n",
              "      <td>5</td>\n",
              "      <td>44957</td>\n",
              "      <td>Melbourne, Victoria</td>\n",
              "      <td>03-03-2020</td>\n",
              "      <td>#toiletpaper #dunnypaper #coronavirus #coronav...</td>\n",
              "      <td>Neutral</td>\n",
              "    </tr>\n",
              "  </tbody>\n",
              "</table>\n",
              "</div>"
            ],
            "text/plain": [
              "   UserName  ...           Sentiment\n",
              "0         1  ...  Extremely Negative\n",
              "1         2  ...            Positive\n",
              "2         3  ...  Extremely Positive\n",
              "3         4  ...            Negative\n",
              "4         5  ...             Neutral\n",
              "\n",
              "[5 rows x 6 columns]"
            ]
          },
          "metadata": {
            "tags": []
          },
          "execution_count": 195
        }
      ]
    },
    {
      "cell_type": "code",
      "metadata": {
        "colab": {
          "base_uri": "https://localhost:8080/",
          "height": 197
        },
        "id": "noiUWSIPCm6-",
        "outputId": "b529534c-78c4-4847-e8ba-c2915abddb8f"
      },
      "source": [
        "# Clean testing data\n",
        "test_cleaned_data = clean_text(test_data)\n",
        "test_cleaned_data.head()"
      ],
      "execution_count": 196,
      "outputs": [
        {
          "output_type": "execute_result",
          "data": {
            "text/html": [
              "<div>\n",
              "<style scoped>\n",
              "    .dataframe tbody tr th:only-of-type {\n",
              "        vertical-align: middle;\n",
              "    }\n",
              "\n",
              "    .dataframe tbody tr th {\n",
              "        vertical-align: top;\n",
              "    }\n",
              "\n",
              "    .dataframe thead th {\n",
              "        text-align: right;\n",
              "    }\n",
              "</style>\n",
              "<table border=\"1\" class=\"dataframe\">\n",
              "  <thead>\n",
              "    <tr style=\"text-align: right;\">\n",
              "      <th></th>\n",
              "      <th>UserName</th>\n",
              "      <th>ScreenName</th>\n",
              "      <th>Location</th>\n",
              "      <th>TweetAt</th>\n",
              "      <th>OriginalTweet</th>\n",
              "      <th>Sentiment</th>\n",
              "      <th>OriginalTweet_cleaned</th>\n",
              "    </tr>\n",
              "  </thead>\n",
              "  <tbody>\n",
              "    <tr>\n",
              "      <th>0</th>\n",
              "      <td>1</td>\n",
              "      <td>44953</td>\n",
              "      <td>NYC</td>\n",
              "      <td>02-03-2020</td>\n",
              "      <td>TRENDING: New Yorkers encounter empty supermar...</td>\n",
              "      <td>Extremely Negative</td>\n",
              "      <td>trending new yorkers encounter empty supermark...</td>\n",
              "    </tr>\n",
              "    <tr>\n",
              "      <th>1</th>\n",
              "      <td>2</td>\n",
              "      <td>44954</td>\n",
              "      <td>Seattle, WA</td>\n",
              "      <td>02-03-2020</td>\n",
              "      <td>When I couldn't find hand sanitizer at Fred Me...</td>\n",
              "      <td>Positive</td>\n",
              "      <td>could nt find hand sanitizer fred meyer turned...</td>\n",
              "    </tr>\n",
              "    <tr>\n",
              "      <th>2</th>\n",
              "      <td>3</td>\n",
              "      <td>44955</td>\n",
              "      <td>NaN</td>\n",
              "      <td>02-03-2020</td>\n",
              "      <td>Find out how you can protect yourself and love...</td>\n",
              "      <td>Extremely Positive</td>\n",
              "      <td>find protect loved one coronavirus</td>\n",
              "    </tr>\n",
              "    <tr>\n",
              "      <th>3</th>\n",
              "      <td>4</td>\n",
              "      <td>44956</td>\n",
              "      <td>Chicagoland</td>\n",
              "      <td>02-03-2020</td>\n",
              "      <td>#Panic buying hits #NewYork City as anxious sh...</td>\n",
              "      <td>Negative</td>\n",
              "      <td>panic buying hit newyork city anxious shopper ...</td>\n",
              "    </tr>\n",
              "    <tr>\n",
              "      <th>4</th>\n",
              "      <td>5</td>\n",
              "      <td>44957</td>\n",
              "      <td>Melbourne, Victoria</td>\n",
              "      <td>03-03-2020</td>\n",
              "      <td>#toiletpaper #dunnypaper #coronavirus #coronav...</td>\n",
              "      <td>Neutral</td>\n",
              "      <td>toiletpaper dunnypaper coronavirus coronavirus...</td>\n",
              "    </tr>\n",
              "  </tbody>\n",
              "</table>\n",
              "</div>"
            ],
            "text/plain": [
              "   UserName  ...                              OriginalTweet_cleaned\n",
              "0         1  ...  trending new yorkers encounter empty supermark...\n",
              "1         2  ...  could nt find hand sanitizer fred meyer turned...\n",
              "2         3  ...                 find protect loved one coronavirus\n",
              "3         4  ...  panic buying hit newyork city anxious shopper ...\n",
              "4         5  ...  toiletpaper dunnypaper coronavirus coronavirus...\n",
              "\n",
              "[5 rows x 7 columns]"
            ]
          },
          "metadata": {
            "tags": []
          },
          "execution_count": 196
        }
      ]
    },
    {
      "cell_type": "code",
      "metadata": {
        "id": "VDVk3VrDO-lX"
      },
      "source": [
        "labels = ['Positive', 'Negative', 'Neutral', 'Extremely Positive', 'Extremely Negative']"
      ],
      "execution_count": 197,
      "outputs": []
    },
    {
      "cell_type": "code",
      "metadata": {
        "id": "mLSHX8xYC1Cd"
      },
      "source": [
        "test_seq = tokenizer.texts_to_sequences(test_cleaned_data['OriginalTweet_cleaned'])\n",
        "padded =  pad_sequences(test_seq,maxlen=maxlen,padding='post',truncating='post')\n",
        "pred = model.predict(padded)\n",
        "# print(pred)\n",
        "results_lits = {}\n",
        "for index in range(pred.shape[0]):\n",
        "  # print(index)\n",
        "  pred_ = pred[index]\n",
        "  key =  f\"{test_cleaned_data.iloc[index]['ScreenName'] } _  {test_cleaned_data.iloc[index]['Sentiment'] }\"\n",
        "  results_lits[key] = labels[np.argmax(pred_)]\n"
      ],
      "execution_count": 198,
      "outputs": []
    },
    {
      "cell_type": "code",
      "metadata": {
        "colab": {
          "base_uri": "https://localhost:8080/"
        },
        "id": "8BC4QmkJJbmx",
        "outputId": "3d9c3242-57a4-4eac-b64d-bfbb180d6db4"
      },
      "source": [
        "results_lits"
      ],
      "execution_count": 199,
      "outputs": [
        {
          "output_type": "execute_result",
          "data": {
            "text/plain": [
              "{'44953 _  Extremely Negative': 'Neutral',\n",
              " '44954 _  Positive': 'Positive',\n",
              " '44955 _  Extremely Positive': 'Positive',\n",
              " '44956 _  Negative': 'Negative',\n",
              " '44957 _  Neutral': 'Positive',\n",
              " '44958 _  Neutral': 'Neutral',\n",
              " '44959 _  Positive': 'Positive',\n",
              " '44960 _  Neutral': 'Positive',\n",
              " '44961 _  Extremely Negative': 'Negative',\n",
              " '44962 _  Extremely Positive': 'Positive',\n",
              " '44963 _  Positive': 'Positive',\n",
              " '44964 _  Extremely Negative': 'Negative',\n",
              " '44965 _  Extremely Negative': 'Negative',\n",
              " '44966 _  Extremely Positive': 'Positive',\n",
              " '44967 _  Positive': 'Neutral',\n",
              " '44968 _  Extremely Negative': 'Positive',\n",
              " '44969 _  Extremely Positive': 'Positive',\n",
              " '44970 _  Neutral': 'Positive',\n",
              " '44971 _  Positive': 'Negative',\n",
              " '44972 _  Extremely Positive': 'Positive',\n",
              " '44973 _  Negative': 'Negative',\n",
              " '44974 _  Extremely Positive': 'Positive',\n",
              " '44975 _  Extremely Positive': 'Positive',\n",
              " '44976 _  Extremely Positive': 'Positive',\n",
              " '44977 _  Extremely Negative': 'Negative',\n",
              " '44978 _  Positive': 'Positive',\n",
              " '44979 _  Negative': 'Negative',\n",
              " '44980 _  Negative': 'Negative',\n",
              " '44981 _  Negative': 'Positive',\n",
              " '44982 _  Positive': 'Negative',\n",
              " '44983 _  Negative': 'Positive',\n",
              " '44984 _  Extremely Positive': 'Positive',\n",
              " '44985 _  Extremely Negative': 'Negative',\n",
              " '44986 _  Extremely Negative': 'Negative',\n",
              " '44987 _  Neutral': 'Positive',\n",
              " '44988 _  Extremely Negative': 'Negative',\n",
              " '44989 _  Negative': 'Negative',\n",
              " '44990 _  Neutral': 'Negative',\n",
              " '44991 _  Negative': 'Positive',\n",
              " '44992 _  Extremely Positive': 'Positive',\n",
              " '44993 _  Positive': 'Positive',\n",
              " '44994 _  Negative': 'Positive',\n",
              " '44995 _  Neutral': 'Neutral',\n",
              " '44996 _  Positive': 'Positive',\n",
              " '44997 _  Positive': 'Neutral',\n",
              " '44998 _  Extremely Positive': 'Positive',\n",
              " '44999 _  Extremely Positive': 'Positive',\n",
              " '45000 _  Extremely Negative': 'Negative',\n",
              " '45001 _  Extremely Negative': 'Negative',\n",
              " '45002 _  Extremely Negative': 'Negative',\n",
              " '45003 _  Extremely Negative': 'Negative',\n",
              " '45004 _  Neutral': 'Neutral',\n",
              " '45005 _  Negative': 'Positive',\n",
              " '45006 _  Extremely Positive': 'Positive',\n",
              " '45007 _  Extremely Negative': 'Negative',\n",
              " '45008 _  Negative': 'Negative',\n",
              " '45009 _  Negative': 'Positive',\n",
              " '45010 _  Positive': 'Positive',\n",
              " '45011 _  Positive': 'Neutral',\n",
              " '45012 _  Neutral': 'Neutral',\n",
              " '45013 _  Extremely Negative': 'Negative',\n",
              " '45014 _  Extremely Negative': 'Negative',\n",
              " '45015 _  Extremely Positive': 'Positive',\n",
              " '45016 _  Extremely Negative': 'Negative',\n",
              " '45017 _  Positive': 'Neutral',\n",
              " '45018 _  Negative': 'Positive',\n",
              " '45019 _  Positive': 'Negative',\n",
              " '45020 _  Extremely Positive': 'Positive',\n",
              " '45021 _  Positive': 'Positive',\n",
              " '45022 _  Positive': 'Positive',\n",
              " '45023 _  Negative': 'Negative',\n",
              " '45024 _  Extremely Positive': 'Negative',\n",
              " '45025 _  Positive': 'Positive',\n",
              " '45026 _  Negative': 'Neutral',\n",
              " '45027 _  Neutral': 'Positive',\n",
              " '45028 _  Extremely Negative': 'Negative',\n",
              " '45029 _  Negative': 'Positive',\n",
              " '45030 _  Positive': 'Positive',\n",
              " '45031 _  Positive': 'Positive',\n",
              " '45032 _  Positive': 'Positive',\n",
              " '45033 _  Extremely Negative': 'Negative',\n",
              " '45034 _  Negative': 'Negative',\n",
              " '45035 _  Extremely Positive': 'Positive',\n",
              " '45036 _  Negative': 'Positive',\n",
              " '45037 _  Negative': 'Positive',\n",
              " '45038 _  Negative': 'Positive',\n",
              " '45039 _  Negative': 'Positive',\n",
              " '45040 _  Neutral': 'Neutral',\n",
              " '45041 _  Negative': 'Positive',\n",
              " '45042 _  Negative': 'Positive',\n",
              " '45043 _  Negative': 'Negative',\n",
              " '45044 _  Negative': 'Negative',\n",
              " '45045 _  Positive': 'Positive',\n",
              " '45046 _  Negative': 'Negative',\n",
              " '45047 _  Negative': 'Negative',\n",
              " '45048 _  Extremely Positive': 'Positive',\n",
              " '45049 _  Neutral': 'Neutral',\n",
              " '45050 _  Extremely Positive': 'Positive',\n",
              " '45051 _  Extremely Negative': 'Neutral',\n",
              " '45052 _  Neutral': 'Positive',\n",
              " '45053 _  Positive': 'Positive',\n",
              " '45054 _  Neutral': 'Neutral',\n",
              " '45055 _  Positive': 'Neutral',\n",
              " '45056 _  Positive': 'Positive',\n",
              " '45057 _  Neutral': 'Positive',\n",
              " '45058 _  Extremely Positive': 'Positive',\n",
              " '45059 _  Positive': 'Positive',\n",
              " '45060 _  Negative': 'Negative',\n",
              " '45061 _  Negative': 'Negative',\n",
              " '45062 _  Negative': 'Negative',\n",
              " '45063 _  Negative': 'Positive',\n",
              " '45064 _  Positive': 'Positive',\n",
              " '45065 _  Extremely Positive': 'Positive',\n",
              " '45066 _  Negative': 'Neutral',\n",
              " '45067 _  Positive': 'Positive',\n",
              " '45068 _  Negative': 'Positive',\n",
              " '45069 _  Negative': 'Negative',\n",
              " '45070 _  Extremely Positive': 'Positive',\n",
              " '45071 _  Negative': 'Negative',\n",
              " '45072 _  Neutral': 'Negative',\n",
              " '45073 _  Positive': 'Positive',\n",
              " '45074 _  Extremely Positive': 'Positive',\n",
              " '45075 _  Neutral': 'Negative',\n",
              " '45076 _  Negative': 'Negative',\n",
              " '45077 _  Extremely Negative': 'Negative',\n",
              " '45078 _  Extremely Negative': 'Negative',\n",
              " '45079 _  Positive': 'Positive',\n",
              " '45080 _  Positive': 'Positive',\n",
              " '45081 _  Negative': 'Negative',\n",
              " '45082 _  Extremely Negative': 'Negative',\n",
              " '45083 _  Negative': 'Positive',\n",
              " '45084 _  Positive': 'Positive',\n",
              " '45085 _  Extremely Negative': 'Negative',\n",
              " '45086 _  Negative': 'Negative',\n",
              " '45087 _  Extremely Negative': 'Negative',\n",
              " '45088 _  Extremely Positive': 'Negative',\n",
              " '45089 _  Extremely Positive': 'Positive',\n",
              " '45090 _  Negative': 'Positive',\n",
              " '45091 _  Extremely Positive': 'Positive',\n",
              " '45092 _  Neutral': 'Neutral',\n",
              " '45093 _  Extremely Positive': 'Positive',\n",
              " '45094 _  Extremely Positive': 'Positive',\n",
              " '45095 _  Neutral': 'Negative',\n",
              " '45096 _  Neutral': 'Positive',\n",
              " '45097 _  Positive': 'Positive',\n",
              " '45098 _  Positive': 'Positive',\n",
              " '45099 _  Negative': 'Positive',\n",
              " '45100 _  Negative': 'Positive',\n",
              " '45101 _  Negative': 'Negative',\n",
              " '45102 _  Positive': 'Negative',\n",
              " '45103 _  Negative': 'Positive',\n",
              " '45104 _  Extremely Positive': 'Positive',\n",
              " '45105 _  Neutral': 'Neutral',\n",
              " '45106 _  Extremely Negative': 'Positive',\n",
              " '45107 _  Neutral': 'Neutral',\n",
              " '45108 _  Negative': 'Negative',\n",
              " '45109 _  Negative': 'Positive',\n",
              " '45110 _  Negative': 'Negative',\n",
              " '45111 _  Positive': 'Positive',\n",
              " '45112 _  Extremely Negative': 'Positive',\n",
              " '45113 _  Positive': 'Positive',\n",
              " '45114 _  Positive': 'Positive',\n",
              " '45115 _  Extremely Positive': 'Positive',\n",
              " '45116 _  Neutral': 'Neutral',\n",
              " '45117 _  Neutral': 'Neutral',\n",
              " '45118 _  Positive': 'Positive',\n",
              " '45119 _  Negative': 'Negative',\n",
              " '45120 _  Neutral': 'Negative',\n",
              " '45121 _  Positive': 'Positive',\n",
              " '45122 _  Extremely Positive': 'Positive',\n",
              " '45123 _  Negative': 'Neutral',\n",
              " '45124 _  Extremely Positive': 'Positive',\n",
              " '45125 _  Neutral': 'Neutral',\n",
              " '45126 _  Positive': 'Neutral',\n",
              " '45127 _  Extremely Positive': 'Negative',\n",
              " '45128 _  Neutral': 'Negative',\n",
              " '45129 _  Neutral': 'Neutral',\n",
              " '45130 _  Positive': 'Positive',\n",
              " '45131 _  Negative': 'Positive',\n",
              " '45132 _  Neutral': 'Neutral',\n",
              " '45133 _  Neutral': 'Negative',\n",
              " '45134 _  Extremely Positive': 'Positive',\n",
              " '45135 _  Neutral': 'Neutral',\n",
              " '45136 _  Positive': 'Positive',\n",
              " '45137 _  Extremely Negative': 'Positive',\n",
              " '45138 _  Extremely Positive': 'Positive',\n",
              " '45139 _  Neutral': 'Neutral',\n",
              " '45140 _  Positive': 'Positive',\n",
              " '45141 _  Positive': 'Negative',\n",
              " '45142 _  Negative': 'Negative',\n",
              " '45143 _  Extremely Positive': 'Positive',\n",
              " '45144 _  Extremely Positive': 'Negative',\n",
              " '45145 _  Positive': 'Positive',\n",
              " '45146 _  Extremely Positive': 'Positive',\n",
              " '45147 _  Negative': 'Positive',\n",
              " '45148 _  Positive': 'Positive',\n",
              " '45149 _  Neutral': 'Neutral',\n",
              " '45150 _  Positive': 'Positive',\n",
              " '45151 _  Extremely Positive': 'Negative',\n",
              " '45152 _  Negative': 'Neutral',\n",
              " '45153 _  Negative': 'Positive',\n",
              " '45154 _  Positive': 'Positive',\n",
              " '45155 _  Positive': 'Positive',\n",
              " '45156 _  Extremely Positive': 'Positive',\n",
              " '45157 _  Positive': 'Positive',\n",
              " '45158 _  Negative': 'Negative',\n",
              " '45159 _  Negative': 'Negative',\n",
              " '45160 _  Extremely Positive': 'Positive',\n",
              " '45161 _  Neutral': 'Neutral',\n",
              " '45162 _  Positive': 'Neutral',\n",
              " '45163 _  Extremely Negative': 'Negative',\n",
              " '45164 _  Negative': 'Negative',\n",
              " '45165 _  Positive': 'Negative',\n",
              " '45166 _  Positive': 'Positive',\n",
              " '45167 _  Positive': 'Positive',\n",
              " '45168 _  Negative': 'Positive',\n",
              " '45169 _  Extremely Negative': 'Negative',\n",
              " '45170 _  Neutral': 'Neutral',\n",
              " '45171 _  Neutral': 'Neutral',\n",
              " '45172 _  Negative': 'Positive',\n",
              " '45173 _  Neutral': 'Neutral',\n",
              " '45174 _  Positive': 'Positive',\n",
              " '45175 _  Negative': 'Positive',\n",
              " '45176 _  Negative': 'Positive',\n",
              " '45177 _  Positive': 'Positive',\n",
              " '45178 _  Positive': 'Positive',\n",
              " '45179 _  Neutral': 'Positive',\n",
              " '45180 _  Positive': 'Positive',\n",
              " '45181 _  Negative': 'Negative',\n",
              " '45182 _  Extremely Negative': 'Negative',\n",
              " '45183 _  Extremely Negative': 'Negative',\n",
              " '45184 _  Positive': 'Neutral',\n",
              " '45185 _  Neutral': 'Positive',\n",
              " '45186 _  Neutral': 'Neutral',\n",
              " '45187 _  Negative': 'Negative',\n",
              " '45188 _  Positive': 'Positive',\n",
              " '45189 _  Extremely Positive': 'Positive',\n",
              " '45190 _  Neutral': 'Neutral',\n",
              " '45191 _  Neutral': 'Neutral',\n",
              " '45192 _  Positive': 'Positive',\n",
              " '45193 _  Extremely Positive': 'Positive',\n",
              " '45194 _  Positive': 'Negative',\n",
              " '45195 _  Negative': 'Positive',\n",
              " '45196 _  Positive': 'Positive',\n",
              " '45197 _  Negative': 'Negative',\n",
              " '45198 _  Extremely Negative': 'Negative',\n",
              " '45199 _  Positive': 'Negative',\n",
              " '45200 _  Negative': 'Neutral',\n",
              " '45201 _  Neutral': 'Negative',\n",
              " '45202 _  Negative': 'Neutral',\n",
              " '45203 _  Neutral': 'Neutral',\n",
              " '45204 _  Neutral': 'Neutral',\n",
              " '45205 _  Positive': 'Positive',\n",
              " '45206 _  Extremely Positive': 'Positive',\n",
              " '45207 _  Positive': 'Positive',\n",
              " '45208 _  Positive': 'Neutral',\n",
              " '45209 _  Positive': 'Positive',\n",
              " '45210 _  Positive': 'Positive',\n",
              " '45211 _  Extremely Positive': 'Positive',\n",
              " '45212 _  Extremely Negative': 'Negative',\n",
              " '45213 _  Negative': 'Negative',\n",
              " '45214 _  Extremely Positive': 'Positive',\n",
              " '45215 _  Extremely Negative': 'Negative',\n",
              " '45216 _  Positive': 'Negative',\n",
              " '45217 _  Negative': 'Negative',\n",
              " '45218 _  Positive': 'Positive',\n",
              " '45219 _  Positive': 'Positive',\n",
              " '45220 _  Negative': 'Negative',\n",
              " '45221 _  Negative': 'Positive',\n",
              " '45222 _  Negative': 'Negative',\n",
              " '45223 _  Neutral': 'Positive',\n",
              " '45224 _  Positive': 'Positive',\n",
              " '45225 _  Neutral': 'Neutral',\n",
              " '45226 _  Extremely Negative': 'Negative',\n",
              " '45227 _  Extremely Positive': 'Positive',\n",
              " '45228 _  Positive': 'Positive',\n",
              " '45229 _  Negative': 'Positive',\n",
              " '45230 _  Extremely Negative': 'Neutral',\n",
              " '45231 _  Extremely Positive': 'Positive',\n",
              " '45232 _  Negative': 'Negative',\n",
              " '45233 _  Extremely Positive': 'Positive',\n",
              " '45234 _  Neutral': 'Neutral',\n",
              " '45235 _  Positive': 'Negative',\n",
              " '45236 _  Positive': 'Positive',\n",
              " '45237 _  Extremely Negative': 'Negative',\n",
              " '45238 _  Positive': 'Positive',\n",
              " '45239 _  Negative': 'Positive',\n",
              " '45240 _  Neutral': 'Neutral',\n",
              " '45241 _  Extremely Negative': 'Negative',\n",
              " '45242 _  Extremely Negative': 'Negative',\n",
              " '45243 _  Negative': 'Positive',\n",
              " '45244 _  Negative': 'Neutral',\n",
              " '45245 _  Negative': 'Neutral',\n",
              " '45246 _  Negative': 'Negative',\n",
              " '45247 _  Negative': 'Positive',\n",
              " '45248 _  Extremely Positive': 'Positive',\n",
              " '45249 _  Positive': 'Negative',\n",
              " '45250 _  Positive': 'Negative',\n",
              " '45251 _  Positive': 'Negative',\n",
              " '45252 _  Neutral': 'Positive',\n",
              " '45253 _  Neutral': 'Neutral',\n",
              " '45254 _  Extremely Negative': 'Negative',\n",
              " '45255 _  Extremely Negative': 'Negative',\n",
              " '45256 _  Negative': 'Negative',\n",
              " '45257 _  Negative': 'Negative',\n",
              " '45258 _  Extremely Positive': 'Positive',\n",
              " '45259 _  Extremely Negative': 'Negative',\n",
              " '45260 _  Extremely Negative': 'Negative',\n",
              " '45261 _  Extremely Negative': 'Negative',\n",
              " '45262 _  Negative': 'Negative',\n",
              " '45263 _  Negative': 'Neutral',\n",
              " '45264 _  Positive': 'Positive',\n",
              " '45265 _  Negative': 'Neutral',\n",
              " '45266 _  Negative': 'Negative',\n",
              " '45267 _  Negative': 'Negative',\n",
              " '45268 _  Negative': 'Negative',\n",
              " '45269 _  Neutral': 'Negative',\n",
              " '45270 _  Extremely Negative': 'Negative',\n",
              " '45271 _  Extremely Positive': 'Positive',\n",
              " '45272 _  Positive': 'Positive',\n",
              " '45273 _  Neutral': 'Neutral',\n",
              " '45274 _  Negative': 'Negative',\n",
              " '45275 _  Extremely Negative': 'Negative',\n",
              " '45276 _  Negative': 'Negative',\n",
              " '45277 _  Negative': 'Neutral',\n",
              " '45278 _  Extremely Positive': 'Negative',\n",
              " '45279 _  Extremely Positive': 'Positive',\n",
              " '45280 _  Positive': 'Positive',\n",
              " '45281 _  Neutral': 'Negative',\n",
              " '45282 _  Positive': 'Positive',\n",
              " '45283 _  Neutral': 'Neutral',\n",
              " '45284 _  Extremely Positive': 'Positive',\n",
              " '45285 _  Negative': 'Neutral',\n",
              " '45286 _  Extremely Negative': 'Negative',\n",
              " '45287 _  Negative': 'Negative',\n",
              " '45288 _  Neutral': 'Neutral',\n",
              " '45289 _  Neutral': 'Neutral',\n",
              " '45290 _  Negative': 'Negative',\n",
              " '45291 _  Positive': 'Positive',\n",
              " '45292 _  Positive': 'Neutral',\n",
              " '45293 _  Extremely Negative': 'Negative',\n",
              " '45294 _  Negative': 'Negative',\n",
              " '45295 _  Extremely Negative': 'Negative',\n",
              " '45296 _  Extremely Positive': 'Positive',\n",
              " '45297 _  Negative': 'Positive',\n",
              " '45298 _  Neutral': 'Negative',\n",
              " '45299 _  Positive': 'Positive',\n",
              " '45300 _  Positive': 'Positive',\n",
              " '45301 _  Positive': 'Negative',\n",
              " '45302 _  Positive': 'Negative',\n",
              " '45303 _  Negative': 'Positive',\n",
              " '45304 _  Positive': 'Positive',\n",
              " '45305 _  Negative': 'Negative',\n",
              " '45306 _  Positive': 'Positive',\n",
              " '45307 _  Extremely Negative': 'Negative',\n",
              " '45308 _  Positive': 'Positive',\n",
              " '45309 _  Negative': 'Negative',\n",
              " '45310 _  Negative': 'Positive',\n",
              " '45311 _  Positive': 'Negative',\n",
              " '45312 _  Extremely Positive': 'Positive',\n",
              " '45313 _  Extremely Negative': 'Negative',\n",
              " '45314 _  Extremely Positive': 'Neutral',\n",
              " '45315 _  Positive': 'Negative',\n",
              " '45316 _  Negative': 'Neutral',\n",
              " '45317 _  Negative': 'Negative',\n",
              " '45318 _  Extremely Positive': 'Positive',\n",
              " '45319 _  Negative': 'Negative',\n",
              " '45320 _  Positive': 'Positive',\n",
              " '45321 _  Neutral': 'Neutral',\n",
              " '45322 _  Extremely Positive': 'Positive',\n",
              " '45323 _  Extremely Positive': 'Positive',\n",
              " '45324 _  Extremely Negative': 'Negative',\n",
              " '45325 _  Negative': 'Negative',\n",
              " '45326 _  Neutral': 'Neutral',\n",
              " '45327 _  Extremely Positive': 'Positive',\n",
              " '45328 _  Negative': 'Negative',\n",
              " '45329 _  Neutral': 'Neutral',\n",
              " '45330 _  Neutral': 'Negative',\n",
              " '45331 _  Extremely Positive': 'Positive',\n",
              " '45332 _  Positive': 'Positive',\n",
              " '45333 _  Negative': 'Positive',\n",
              " '45334 _  Negative': 'Negative',\n",
              " '45335 _  Extremely Positive': 'Negative',\n",
              " '45336 _  Extremely Positive': 'Positive',\n",
              " '45337 _  Extremely Positive': 'Positive',\n",
              " '45338 _  Positive': 'Positive',\n",
              " '45339 _  Neutral': 'Neutral',\n",
              " '45340 _  Extremely Positive': 'Positive',\n",
              " '45341 _  Positive': 'Positive',\n",
              " '45342 _  Positive': 'Positive',\n",
              " '45343 _  Neutral': 'Neutral',\n",
              " '45344 _  Negative': 'Negative',\n",
              " '45345 _  Positive': 'Negative',\n",
              " '45346 _  Negative': 'Neutral',\n",
              " '45347 _  Negative': 'Negative',\n",
              " '45348 _  Extremely Positive': 'Positive',\n",
              " '45349 _  Extremely Positive': 'Positive',\n",
              " '45350 _  Extremely Negative': 'Positive',\n",
              " '45351 _  Extremely Negative': 'Negative',\n",
              " '45352 _  Extremely Negative': 'Negative',\n",
              " '45353 _  Positive': 'Positive',\n",
              " '45354 _  Neutral': 'Negative',\n",
              " '45355 _  Extremely Negative': 'Negative',\n",
              " '45356 _  Positive': 'Neutral',\n",
              " '45357 _  Extremely Negative': 'Negative',\n",
              " '45358 _  Negative': 'Negative',\n",
              " '45359 _  Positive': 'Positive',\n",
              " '45360 _  Negative': 'Negative',\n",
              " '45361 _  Extremely Negative': 'Positive',\n",
              " '45362 _  Extremely Positive': 'Positive',\n",
              " '45363 _  Negative': 'Positive',\n",
              " '45364 _  Positive': 'Positive',\n",
              " '45365 _  Positive': 'Positive',\n",
              " '45366 _  Positive': 'Positive',\n",
              " '45367 _  Positive': 'Positive',\n",
              " '45368 _  Negative': 'Positive',\n",
              " '45369 _  Negative': 'Positive',\n",
              " '45370 _  Neutral': 'Neutral',\n",
              " '45371 _  Neutral': 'Neutral',\n",
              " '45372 _  Negative': 'Negative',\n",
              " '45373 _  Extremely Positive': 'Positive',\n",
              " '45374 _  Extremely Positive': 'Negative',\n",
              " '45375 _  Extremely Negative': 'Negative',\n",
              " '45376 _  Negative': 'Negative',\n",
              " '45377 _  Positive': 'Positive',\n",
              " '45378 _  Extremely Positive': 'Positive',\n",
              " '45379 _  Extremely Negative': 'Negative',\n",
              " '45380 _  Neutral': 'Positive',\n",
              " '45381 _  Extremely Positive': 'Negative',\n",
              " '45382 _  Positive': 'Neutral',\n",
              " '45383 _  Negative': 'Negative',\n",
              " '45384 _  Positive': 'Negative',\n",
              " '45385 _  Extremely Negative': 'Negative',\n",
              " '45386 _  Positive': 'Positive',\n",
              " '45387 _  Negative': 'Neutral',\n",
              " '45388 _  Negative': 'Negative',\n",
              " '45389 _  Extremely Negative': 'Negative',\n",
              " '45390 _  Extremely Negative': 'Negative',\n",
              " '45391 _  Extremely Positive': 'Positive',\n",
              " '45392 _  Extremely Negative': 'Negative',\n",
              " '45393 _  Extremely Negative': 'Positive',\n",
              " '45394 _  Negative': 'Positive',\n",
              " '45395 _  Extremely Negative': 'Negative',\n",
              " '45396 _  Positive': 'Positive',\n",
              " '45397 _  Positive': 'Positive',\n",
              " '45398 _  Positive': 'Positive',\n",
              " '45399 _  Extremely Positive': 'Positive',\n",
              " '45400 _  Negative': 'Positive',\n",
              " '45401 _  Negative': 'Negative',\n",
              " '45402 _  Negative': 'Negative',\n",
              " '45403 _  Neutral': 'Neutral',\n",
              " '45404 _  Neutral': 'Negative',\n",
              " '45405 _  Extremely Negative': 'Positive',\n",
              " '45406 _  Neutral': 'Negative',\n",
              " '45407 _  Neutral': 'Positive',\n",
              " '45408 _  Negative': 'Negative',\n",
              " '45409 _  Positive': 'Positive',\n",
              " '45410 _  Negative': 'Negative',\n",
              " '45411 _  Extremely Positive': 'Positive',\n",
              " '45412 _  Positive': 'Positive',\n",
              " '45413 _  Extremely Positive': 'Positive',\n",
              " '45414 _  Negative': 'Positive',\n",
              " '45415 _  Neutral': 'Positive',\n",
              " '45416 _  Neutral': 'Neutral',\n",
              " '45417 _  Negative': 'Negative',\n",
              " '45418 _  Positive': 'Negative',\n",
              " '45419 _  Negative': 'Negative',\n",
              " '45420 _  Positive': 'Positive',\n",
              " '45421 _  Negative': 'Neutral',\n",
              " '45422 _  Positive': 'Neutral',\n",
              " '45423 _  Neutral': 'Negative',\n",
              " '45424 _  Neutral': 'Negative',\n",
              " '45425 _  Extremely Positive': 'Positive',\n",
              " '45426 _  Negative': 'Negative',\n",
              " '45427 _  Negative': 'Neutral',\n",
              " '45428 _  Neutral': 'Neutral',\n",
              " '45429 _  Extremely Negative': 'Positive',\n",
              " '45430 _  Neutral': 'Neutral',\n",
              " '45431 _  Extremely Negative': 'Negative',\n",
              " '45432 _  Negative': 'Negative',\n",
              " '45433 _  Negative': 'Negative',\n",
              " '45434 _  Positive': 'Positive',\n",
              " '45435 _  Negative': 'Negative',\n",
              " '45436 _  Extremely Negative': 'Negative',\n",
              " '45437 _  Neutral': 'Neutral',\n",
              " '45438 _  Extremely Positive': 'Positive',\n",
              " '45439 _  Extremely Negative': 'Negative',\n",
              " '45440 _  Negative': 'Negative',\n",
              " '45441 _  Neutral': 'Neutral',\n",
              " '45442 _  Extremely Positive': 'Negative',\n",
              " '45443 _  Negative': 'Positive',\n",
              " '45444 _  Positive': 'Positive',\n",
              " '45445 _  Negative': 'Neutral',\n",
              " '45446 _  Neutral': 'Positive',\n",
              " '45447 _  Positive': 'Positive',\n",
              " '45448 _  Extremely Positive': 'Positive',\n",
              " '45449 _  Negative': 'Negative',\n",
              " '45450 _  Extremely Positive': 'Positive',\n",
              " '45451 _  Extremely Positive': 'Positive',\n",
              " '45452 _  Negative': 'Negative',\n",
              " '45453 _  Negative': 'Negative',\n",
              " '45454 _  Positive': 'Negative',\n",
              " '45455 _  Positive': 'Neutral',\n",
              " '45456 _  Extremely Positive': 'Positive',\n",
              " '45457 _  Negative': 'Negative',\n",
              " '45458 _  Extremely Positive': 'Positive',\n",
              " '45459 _  Neutral': 'Neutral',\n",
              " '45460 _  Negative': 'Positive',\n",
              " '45461 _  Extremely Positive': 'Positive',\n",
              " '45462 _  Negative': 'Neutral',\n",
              " '45463 _  Positive': 'Positive',\n",
              " '45464 _  Negative': 'Negative',\n",
              " '45465 _  Extremely Positive': 'Positive',\n",
              " '45466 _  Negative': 'Positive',\n",
              " '45467 _  Extremely Negative': 'Negative',\n",
              " '45468 _  Positive': 'Positive',\n",
              " '45469 _  Extremely Negative': 'Negative',\n",
              " '45470 _  Neutral': 'Neutral',\n",
              " '45471 _  Negative': 'Positive',\n",
              " '45472 _  Extremely Negative': 'Negative',\n",
              " '45473 _  Neutral': 'Neutral',\n",
              " '45474 _  Negative': 'Negative',\n",
              " '45475 _  Negative': 'Negative',\n",
              " '45476 _  Negative': 'Negative',\n",
              " '45477 _  Positive': 'Negative',\n",
              " '45478 _  Extremely Positive': 'Positive',\n",
              " '45479 _  Neutral': 'Neutral',\n",
              " '45480 _  Neutral': 'Neutral',\n",
              " '45481 _  Extremely Negative': 'Negative',\n",
              " '45482 _  Extremely Positive': 'Positive',\n",
              " '45483 _  Positive': 'Positive',\n",
              " '45484 _  Negative': 'Negative',\n",
              " '45485 _  Neutral': 'Positive',\n",
              " '45486 _  Neutral': 'Neutral',\n",
              " '45487 _  Extremely Positive': 'Positive',\n",
              " '45488 _  Neutral': 'Positive',\n",
              " '45489 _  Positive': 'Positive',\n",
              " '45490 _  Extremely Negative': 'Negative',\n",
              " '45491 _  Negative': 'Negative',\n",
              " '45492 _  Negative': 'Negative',\n",
              " '45493 _  Extremely Negative': 'Negative',\n",
              " '45494 _  Negative': 'Negative',\n",
              " '45495 _  Neutral': 'Neutral',\n",
              " '45496 _  Negative': 'Negative',\n",
              " '45497 _  Negative': 'Positive',\n",
              " '45498 _  Negative': 'Negative',\n",
              " '45499 _  Extremely Negative': 'Negative',\n",
              " '45500 _  Positive': 'Positive',\n",
              " '45501 _  Extremely Negative': 'Neutral',\n",
              " '45502 _  Negative': 'Neutral',\n",
              " '45503 _  Extremely Negative': 'Negative',\n",
              " '45504 _  Negative': 'Positive',\n",
              " '45505 _  Neutral': 'Positive',\n",
              " '45506 _  Positive': 'Positive',\n",
              " '45507 _  Negative': 'Neutral',\n",
              " '45508 _  Neutral': 'Negative',\n",
              " '45509 _  Negative': 'Negative',\n",
              " '45510 _  Negative': 'Negative',\n",
              " '45511 _  Negative': 'Neutral',\n",
              " '45512 _  Neutral': 'Positive',\n",
              " '45513 _  Extremely Negative': 'Negative',\n",
              " '45514 _  Positive': 'Positive',\n",
              " '45515 _  Positive': 'Neutral',\n",
              " '45516 _  Extremely Positive': 'Positive',\n",
              " '45517 _  Positive': 'Positive',\n",
              " '45518 _  Extremely Negative': 'Negative',\n",
              " '45519 _  Positive': 'Positive',\n",
              " '45520 _  Positive': 'Positive',\n",
              " '45521 _  Extremely Negative': 'Negative',\n",
              " '45522 _  Positive': 'Positive',\n",
              " '45523 _  Positive': 'Positive',\n",
              " '45524 _  Negative': 'Negative',\n",
              " '45525 _  Negative': 'Positive',\n",
              " '45526 _  Neutral': 'Neutral',\n",
              " '45527 _  Positive': 'Positive',\n",
              " '45528 _  Neutral': 'Neutral',\n",
              " '45529 _  Negative': 'Positive',\n",
              " '45530 _  Negative': 'Positive',\n",
              " '45531 _  Extremely Positive': 'Positive',\n",
              " '45532 _  Negative': 'Positive',\n",
              " '45533 _  Extremely Negative': 'Negative',\n",
              " '45534 _  Negative': 'Negative',\n",
              " '45535 _  Extremely Positive': 'Positive',\n",
              " '45536 _  Extremely Negative': 'Negative',\n",
              " '45537 _  Neutral': 'Negative',\n",
              " '45538 _  Extremely Negative': 'Negative',\n",
              " '45539 _  Negative': 'Negative',\n",
              " '45540 _  Negative': 'Negative',\n",
              " '45541 _  Negative': 'Negative',\n",
              " '45542 _  Extremely Negative': 'Negative',\n",
              " '45543 _  Extremely Positive': 'Positive',\n",
              " '45544 _  Positive': 'Negative',\n",
              " '45545 _  Positive': 'Negative',\n",
              " '45546 _  Negative': 'Negative',\n",
              " '45547 _  Negative': 'Negative',\n",
              " '45548 _  Neutral': 'Negative',\n",
              " '45549 _  Positive': 'Positive',\n",
              " '45550 _  Extremely Positive': 'Positive',\n",
              " '45551 _  Negative': 'Negative',\n",
              " '45552 _  Negative': 'Positive',\n",
              " '45553 _  Positive': 'Positive',\n",
              " '45554 _  Positive': 'Positive',\n",
              " '45555 _  Extremely Positive': 'Positive',\n",
              " '45556 _  Negative': 'Negative',\n",
              " '45557 _  Negative': 'Negative',\n",
              " '45558 _  Neutral': 'Neutral',\n",
              " '45559 _  Negative': 'Negative',\n",
              " '45560 _  Negative': 'Negative',\n",
              " '45561 _  Neutral': 'Neutral',\n",
              " '45562 _  Extremely Negative': 'Negative',\n",
              " '45563 _  Negative': 'Positive',\n",
              " '45564 _  Neutral': 'Positive',\n",
              " '45565 _  Positive': 'Positive',\n",
              " '45566 _  Negative': 'Negative',\n",
              " '45567 _  Extremely Positive': 'Positive',\n",
              " '45568 _  Negative': 'Neutral',\n",
              " '45569 _  Extremely Positive': 'Positive',\n",
              " '45570 _  Positive': 'Positive',\n",
              " '45571 _  Positive': 'Positive',\n",
              " '45572 _  Neutral': 'Positive',\n",
              " '45573 _  Neutral': 'Neutral',\n",
              " '45574 _  Negative': 'Negative',\n",
              " '45575 _  Negative': 'Positive',\n",
              " '45576 _  Extremely Negative': 'Positive',\n",
              " '45577 _  Negative': 'Negative',\n",
              " '45578 _  Positive': 'Negative',\n",
              " '45579 _  Extremely Positive': 'Positive',\n",
              " '45580 _  Positive': 'Positive',\n",
              " '45581 _  Extremely Positive': 'Negative',\n",
              " '45582 _  Negative': 'Negative',\n",
              " '45583 _  Extremely Negative': 'Negative',\n",
              " '45584 _  Negative': 'Negative',\n",
              " '45585 _  Extremely Positive': 'Positive',\n",
              " '45586 _  Extremely Positive': 'Positive',\n",
              " '45587 _  Positive': 'Negative',\n",
              " '45588 _  Positive': 'Positive',\n",
              " '45589 _  Negative': 'Negative',\n",
              " '45590 _  Negative': 'Neutral',\n",
              " '45591 _  Neutral': 'Negative',\n",
              " '45592 _  Positive': 'Neutral',\n",
              " '45593 _  Positive': 'Positive',\n",
              " '45594 _  Extremely Negative': 'Negative',\n",
              " '45595 _  Negative': 'Negative',\n",
              " '45596 _  Positive': 'Neutral',\n",
              " '45597 _  Extremely Negative': 'Negative',\n",
              " '45598 _  Neutral': 'Negative',\n",
              " '45599 _  Extremely Positive': 'Positive',\n",
              " '45600 _  Negative': 'Positive',\n",
              " '45601 _  Negative': 'Neutral',\n",
              " '45602 _  Negative': 'Neutral',\n",
              " '45603 _  Neutral': 'Neutral',\n",
              " '45604 _  Neutral': 'Neutral',\n",
              " '45605 _  Negative': 'Neutral',\n",
              " '45606 _  Negative': 'Positive',\n",
              " '45607 _  Negative': 'Positive',\n",
              " '45608 _  Positive': 'Positive',\n",
              " '45609 _  Positive': 'Neutral',\n",
              " '45610 _  Positive': 'Positive',\n",
              " '45611 _  Extremely Negative': 'Negative',\n",
              " '45612 _  Extremely Positive': 'Positive',\n",
              " '45613 _  Negative': 'Negative',\n",
              " '45614 _  Negative': 'Neutral',\n",
              " '45615 _  Extremely Negative': 'Negative',\n",
              " '45616 _  Neutral': 'Negative',\n",
              " '45617 _  Negative': 'Negative',\n",
              " '45618 _  Extremely Negative': 'Negative',\n",
              " '45619 _  Positive': 'Positive',\n",
              " '45620 _  Positive': 'Negative',\n",
              " '45621 _  Negative': 'Positive',\n",
              " '45622 _  Extremely Positive': 'Neutral',\n",
              " '45623 _  Extremely Positive': 'Positive',\n",
              " '45624 _  Positive': 'Positive',\n",
              " '45625 _  Extremely Positive': 'Positive',\n",
              " '45626 _  Positive': 'Positive',\n",
              " '45627 _  Positive': 'Positive',\n",
              " '45628 _  Negative': 'Negative',\n",
              " '45629 _  Negative': 'Negative',\n",
              " '45630 _  Neutral': 'Positive',\n",
              " '45631 _  Negative': 'Negative',\n",
              " '45632 _  Negative': 'Neutral',\n",
              " '45633 _  Positive': 'Neutral',\n",
              " '45634 _  Neutral': 'Neutral',\n",
              " '45635 _  Extremely Negative': 'Negative',\n",
              " '45636 _  Extremely Positive': 'Positive',\n",
              " '45637 _  Negative': 'Negative',\n",
              " '45638 _  Positive': 'Neutral',\n",
              " '45639 _  Negative': 'Negative',\n",
              " '45640 _  Negative': 'Positive',\n",
              " '45641 _  Extremely Negative': 'Negative',\n",
              " '45642 _  Negative': 'Positive',\n",
              " '45643 _  Extremely Positive': 'Positive',\n",
              " '45644 _  Extremely Positive': 'Positive',\n",
              " '45645 _  Positive': 'Positive',\n",
              " '45646 _  Neutral': 'Negative',\n",
              " '45647 _  Extremely Positive': 'Negative',\n",
              " '45648 _  Negative': 'Negative',\n",
              " '45649 _  Extremely Positive': 'Positive',\n",
              " '45650 _  Positive': 'Neutral',\n",
              " '45651 _  Positive': 'Positive',\n",
              " '45652 _  Negative': 'Negative',\n",
              " '45653 _  Neutral': 'Neutral',\n",
              " '45654 _  Extremely Negative': 'Negative',\n",
              " '45655 _  Negative': 'Neutral',\n",
              " '45656 _  Negative': 'Negative',\n",
              " '45657 _  Negative': 'Positive',\n",
              " '45658 _  Negative': 'Positive',\n",
              " '45659 _  Extremely Positive': 'Positive',\n",
              " '45660 _  Extremely Negative': 'Negative',\n",
              " '45661 _  Extremely Positive': 'Neutral',\n",
              " '45662 _  Extremely Negative': 'Negative',\n",
              " '45663 _  Negative': 'Positive',\n",
              " '45664 _  Negative': 'Positive',\n",
              " '45665 _  Extremely Positive': 'Positive',\n",
              " '45666 _  Positive': 'Neutral',\n",
              " '45667 _  Positive': 'Negative',\n",
              " '45668 _  Extremely Negative': 'Negative',\n",
              " '45669 _  Neutral': 'Neutral',\n",
              " '45670 _  Negative': 'Negative',\n",
              " '45671 _  Extremely Negative': 'Negative',\n",
              " '45672 _  Extremely Negative': 'Positive',\n",
              " '45673 _  Negative': 'Negative',\n",
              " '45674 _  Extremely Positive': 'Positive',\n",
              " '45675 _  Positive': 'Positive',\n",
              " '45676 _  Negative': 'Positive',\n",
              " '45677 _  Negative': 'Positive',\n",
              " '45678 _  Positive': 'Positive',\n",
              " '45679 _  Positive': 'Positive',\n",
              " '45680 _  Positive': 'Negative',\n",
              " '45681 _  Positive': 'Negative',\n",
              " '45682 _  Extremely Negative': 'Negative',\n",
              " '45683 _  Extremely Positive': 'Positive',\n",
              " '45684 _  Extremely Positive': 'Positive',\n",
              " '45685 _  Extremely Positive': 'Positive',\n",
              " '45686 _  Neutral': 'Negative',\n",
              " '45687 _  Positive': 'Positive',\n",
              " '45688 _  Positive': 'Positive',\n",
              " '45689 _  Negative': 'Negative',\n",
              " '45690 _  Extremely Positive': 'Negative',\n",
              " '45691 _  Extremely Positive': 'Positive',\n",
              " '45692 _  Extremely Negative': 'Negative',\n",
              " '45693 _  Positive': 'Positive',\n",
              " '45694 _  Extremely Positive': 'Positive',\n",
              " '45695 _  Negative': 'Negative',\n",
              " '45696 _  Negative': 'Negative',\n",
              " '45697 _  Extremely Negative': 'Negative',\n",
              " '45698 _  Extremely Positive': 'Positive',\n",
              " '45699 _  Positive': 'Positive',\n",
              " '45700 _  Positive': 'Negative',\n",
              " '45701 _  Neutral': 'Neutral',\n",
              " '45702 _  Positive': 'Neutral',\n",
              " '45703 _  Negative': 'Negative',\n",
              " '45704 _  Negative': 'Negative',\n",
              " '45705 _  Positive': 'Positive',\n",
              " '45706 _  Extremely Negative': 'Negative',\n",
              " '45707 _  Negative': 'Positive',\n",
              " '45708 _  Extremely Positive': 'Positive',\n",
              " '45709 _  Extremely Negative': 'Positive',\n",
              " '45710 _  Negative': 'Negative',\n",
              " '45711 _  Positive': 'Positive',\n",
              " '45712 _  Extremely Positive': 'Positive',\n",
              " '45713 _  Extremely Positive': 'Positive',\n",
              " '45714 _  Neutral': 'Neutral',\n",
              " '45715 _  Negative': 'Negative',\n",
              " '45716 _  Neutral': 'Neutral',\n",
              " '45717 _  Negative': 'Negative',\n",
              " '45718 _  Extremely Positive': 'Positive',\n",
              " '45719 _  Negative': 'Negative',\n",
              " '45720 _  Positive': 'Positive',\n",
              " '45721 _  Negative': 'Positive',\n",
              " '45722 _  Positive': 'Positive',\n",
              " '45723 _  Positive': 'Positive',\n",
              " '45724 _  Extremely Negative': 'Negative',\n",
              " '45725 _  Positive': 'Positive',\n",
              " '45726 _  Positive': 'Positive',\n",
              " '45727 _  Negative': 'Negative',\n",
              " '45728 _  Extremely Negative': 'Negative',\n",
              " '45729 _  Negative': 'Negative',\n",
              " '45730 _  Negative': 'Negative',\n",
              " '45731 _  Negative': 'Negative',\n",
              " '45732 _  Extremely Positive': 'Positive',\n",
              " '45733 _  Negative': 'Positive',\n",
              " '45734 _  Negative': 'Negative',\n",
              " '45735 _  Negative': 'Positive',\n",
              " '45736 _  Positive': 'Positive',\n",
              " '45737 _  Negative': 'Neutral',\n",
              " '45738 _  Negative': 'Neutral',\n",
              " '45739 _  Negative': 'Negative',\n",
              " '45740 _  Negative': 'Negative',\n",
              " '45741 _  Positive': 'Positive',\n",
              " '45742 _  Negative': 'Positive',\n",
              " '45743 _  Extremely Positive': 'Positive',\n",
              " '45744 _  Neutral': 'Neutral',\n",
              " '45745 _  Extremely Positive': 'Positive',\n",
              " '45746 _  Extremely Negative': 'Negative',\n",
              " '45747 _  Positive': 'Positive',\n",
              " '45748 _  Extremely Positive': 'Negative',\n",
              " '45749 _  Negative': 'Neutral',\n",
              " '45750 _  Negative': 'Positive',\n",
              " '45751 _  Negative': 'Neutral',\n",
              " '45752 _  Positive': 'Neutral',\n",
              " '45753 _  Positive': 'Positive',\n",
              " '45754 _  Positive': 'Neutral',\n",
              " '45755 _  Positive': 'Negative',\n",
              " '45756 _  Neutral': 'Positive',\n",
              " '45757 _  Extremely Positive': 'Positive',\n",
              " '45758 _  Extremely Positive': 'Positive',\n",
              " '45759 _  Neutral': 'Neutral',\n",
              " '45760 _  Positive': 'Negative',\n",
              " '45761 _  Negative': 'Negative',\n",
              " '45762 _  Negative': 'Negative',\n",
              " '45763 _  Negative': 'Negative',\n",
              " '45764 _  Positive': 'Positive',\n",
              " '45765 _  Negative': 'Negative',\n",
              " '45766 _  Extremely Negative': 'Negative',\n",
              " '45767 _  Negative': 'Neutral',\n",
              " '45768 _  Negative': 'Negative',\n",
              " '45769 _  Extremely Negative': 'Positive',\n",
              " '45770 _  Extremely Positive': 'Positive',\n",
              " '45771 _  Positive': 'Positive',\n",
              " '45772 _  Positive': 'Positive',\n",
              " '45773 _  Positive': 'Negative',\n",
              " '45774 _  Negative': 'Positive',\n",
              " '45775 _  Extremely Negative': 'Negative',\n",
              " '45776 _  Extremely Positive': 'Positive',\n",
              " '45777 _  Positive': 'Negative',\n",
              " '45778 _  Negative': 'Negative',\n",
              " '45779 _  Neutral': 'Neutral',\n",
              " '45780 _  Extremely Positive': 'Positive',\n",
              " '45781 _  Extremely Positive': 'Positive',\n",
              " '45782 _  Positive': 'Negative',\n",
              " '45783 _  Extremely Negative': 'Negative',\n",
              " '45784 _  Extremely Positive': 'Positive',\n",
              " '45785 _  Negative': 'Negative',\n",
              " '45786 _  Positive': 'Positive',\n",
              " '45787 _  Extremely Positive': 'Positive',\n",
              " '45788 _  Negative': 'Positive',\n",
              " '45789 _  Neutral': 'Negative',\n",
              " '45790 _  Positive': 'Neutral',\n",
              " '45791 _  Negative': 'Negative',\n",
              " '45792 _  Positive': 'Negative',\n",
              " '45793 _  Neutral': 'Neutral',\n",
              " '45794 _  Extremely Positive': 'Positive',\n",
              " '45795 _  Extremely Positive': 'Positive',\n",
              " '45796 _  Extremely Positive': 'Positive',\n",
              " '45797 _  Neutral': 'Neutral',\n",
              " '45798 _  Negative': 'Positive',\n",
              " '45799 _  Positive': 'Positive',\n",
              " '45800 _  Extremely Negative': 'Negative',\n",
              " '45801 _  Neutral': 'Positive',\n",
              " '45802 _  Negative': 'Negative',\n",
              " '45803 _  Extremely Negative': 'Negative',\n",
              " '45804 _  Negative': 'Positive',\n",
              " '45805 _  Positive': 'Neutral',\n",
              " '45806 _  Positive': 'Positive',\n",
              " '45807 _  Extremely Negative': 'Negative',\n",
              " '45808 _  Extremely Negative': 'Negative',\n",
              " '45809 _  Positive': 'Positive',\n",
              " '45810 _  Extremely Negative': 'Negative',\n",
              " '45811 _  Extremely Positive': 'Positive',\n",
              " '45812 _  Positive': 'Positive',\n",
              " '45813 _  Negative': 'Positive',\n",
              " '45814 _  Neutral': 'Neutral',\n",
              " '45815 _  Negative': 'Positive',\n",
              " '45816 _  Neutral': 'Neutral',\n",
              " '45817 _  Neutral': 'Neutral',\n",
              " '45818 _  Extremely Negative': 'Negative',\n",
              " '45819 _  Positive': 'Positive',\n",
              " '45820 _  Neutral': 'Negative',\n",
              " '45821 _  Negative': 'Negative',\n",
              " '45822 _  Neutral': 'Positive',\n",
              " '45823 _  Negative': 'Negative',\n",
              " '45824 _  Extremely Positive': 'Positive',\n",
              " '45825 _  Neutral': 'Positive',\n",
              " '45826 _  Positive': 'Positive',\n",
              " '45827 _  Negative': 'Positive',\n",
              " '45828 _  Negative': 'Positive',\n",
              " '45829 _  Neutral': 'Neutral',\n",
              " '45830 _  Extremely Positive': 'Positive',\n",
              " '45831 _  Extremely Positive': 'Positive',\n",
              " '45832 _  Extremely Positive': 'Positive',\n",
              " '45833 _  Neutral': 'Neutral',\n",
              " '45834 _  Extremely Negative': 'Neutral',\n",
              " '45835 _  Extremely Positive': 'Positive',\n",
              " '45836 _  Extremely Negative': 'Positive',\n",
              " '45837 _  Neutral': 'Neutral',\n",
              " '45838 _  Neutral': 'Neutral',\n",
              " '45839 _  Positive': 'Neutral',\n",
              " '45840 _  Negative': 'Negative',\n",
              " '45841 _  Negative': 'Negative',\n",
              " '45842 _  Negative': 'Positive',\n",
              " '45843 _  Extremely Negative': 'Negative',\n",
              " '45844 _  Extremely Negative': 'Negative',\n",
              " '45845 _  Extremely Positive': 'Positive',\n",
              " '45846 _  Negative': 'Negative',\n",
              " '45847 _  Neutral': 'Neutral',\n",
              " '45848 _  Positive': 'Positive',\n",
              " '45849 _  Neutral': 'Negative',\n",
              " '45850 _  Extremely Positive': 'Positive',\n",
              " '45851 _  Negative': 'Negative',\n",
              " '45852 _  Negative': 'Positive',\n",
              " '45853 _  Neutral': 'Neutral',\n",
              " '45854 _  Negative': 'Negative',\n",
              " '45855 _  Extremely Negative': 'Negative',\n",
              " '45856 _  Positive': 'Positive',\n",
              " '45857 _  Neutral': 'Neutral',\n",
              " '45858 _  Positive': 'Positive',\n",
              " '45859 _  Positive': 'Positive',\n",
              " '45860 _  Extremely Positive': 'Positive',\n",
              " '45861 _  Negative': 'Positive',\n",
              " '45862 _  Extremely Negative': 'Negative',\n",
              " '45863 _  Negative': 'Negative',\n",
              " '45864 _  Negative': 'Neutral',\n",
              " '45865 _  Extremely Positive': 'Positive',\n",
              " '45866 _  Negative': 'Negative',\n",
              " '45867 _  Neutral': 'Neutral',\n",
              " '45868 _  Positive': 'Neutral',\n",
              " '45869 _  Neutral': 'Negative',\n",
              " '45870 _  Positive': 'Positive',\n",
              " '45871 _  Neutral': 'Neutral',\n",
              " '45872 _  Positive': 'Positive',\n",
              " '45873 _  Extremely Positive': 'Positive',\n",
              " '45874 _  Extremely Negative': 'Negative',\n",
              " '45875 _  Negative': 'Neutral',\n",
              " '45876 _  Negative': 'Neutral',\n",
              " '45877 _  Extremely Positive': 'Positive',\n",
              " '45878 _  Neutral': 'Neutral',\n",
              " '45879 _  Extremely Negative': 'Negative',\n",
              " '45880 _  Extremely Positive': 'Positive',\n",
              " '45881 _  Negative': 'Negative',\n",
              " '45882 _  Extremely Negative': 'Negative',\n",
              " '45883 _  Extremely Positive': 'Positive',\n",
              " '45884 _  Positive': 'Positive',\n",
              " '45885 _  Neutral': 'Neutral',\n",
              " '45886 _  Extremely Negative': 'Negative',\n",
              " '45887 _  Positive': 'Positive',\n",
              " '45888 _  Extremely Negative': 'Negative',\n",
              " '45889 _  Negative': 'Negative',\n",
              " '45890 _  Negative': 'Negative',\n",
              " '45891 _  Negative': 'Negative',\n",
              " '45892 _  Negative': 'Negative',\n",
              " '45893 _  Positive': 'Negative',\n",
              " '45894 _  Extremely Negative': 'Negative',\n",
              " '45895 _  Negative': 'Negative',\n",
              " '45896 _  Neutral': 'Neutral',\n",
              " '45897 _  Neutral': 'Neutral',\n",
              " '45898 _  Negative': 'Negative',\n",
              " '45899 _  Extremely Positive': 'Negative',\n",
              " '45900 _  Extremely Negative': 'Negative',\n",
              " '45901 _  Neutral': 'Neutral',\n",
              " '45902 _  Positive': 'Positive',\n",
              " '45903 _  Extremely Negative': 'Negative',\n",
              " '45904 _  Extremely Positive': 'Positive',\n",
              " '45905 _  Neutral': 'Neutral',\n",
              " '45906 _  Positive': 'Positive',\n",
              " '45907 _  Positive': 'Positive',\n",
              " '45908 _  Positive': 'Positive',\n",
              " '45909 _  Positive': 'Positive',\n",
              " '45910 _  Negative': 'Negative',\n",
              " '45911 _  Extremely Negative': 'Negative',\n",
              " '45912 _  Negative': 'Positive',\n",
              " '45913 _  Extremely Negative': 'Negative',\n",
              " '45914 _  Positive': 'Positive',\n",
              " '45915 _  Positive': 'Positive',\n",
              " '45916 _  Extremely Positive': 'Negative',\n",
              " '45917 _  Neutral': 'Negative',\n",
              " '45918 _  Negative': 'Positive',\n",
              " '45919 _  Negative': 'Negative',\n",
              " '45920 _  Negative': 'Negative',\n",
              " '45921 _  Positive': 'Positive',\n",
              " '45922 _  Extremely Negative': 'Negative',\n",
              " '45923 _  Negative': 'Neutral',\n",
              " '45924 _  Positive': 'Negative',\n",
              " '45925 _  Negative': 'Negative',\n",
              " '45926 _  Extremely Positive': 'Positive',\n",
              " '45927 _  Negative': 'Negative',\n",
              " '45928 _  Neutral': 'Neutral',\n",
              " '45929 _  Extremely Positive': 'Negative',\n",
              " '45930 _  Negative': 'Neutral',\n",
              " '45931 _  Neutral': 'Positive',\n",
              " '45932 _  Positive': 'Positive',\n",
              " '45933 _  Negative': 'Neutral',\n",
              " '45934 _  Extremely Negative': 'Negative',\n",
              " '45935 _  Extremely Negative': 'Negative',\n",
              " '45936 _  Negative': 'Negative',\n",
              " '45937 _  Negative': 'Negative',\n",
              " '45938 _  Extremely Negative': 'Negative',\n",
              " '45939 _  Negative': 'Negative',\n",
              " '45940 _  Negative': 'Negative',\n",
              " '45941 _  Extremely Negative': 'Negative',\n",
              " '45942 _  Neutral': 'Neutral',\n",
              " '45943 _  Positive': 'Positive',\n",
              " '45944 _  Neutral': 'Neutral',\n",
              " '45945 _  Extremely Negative': 'Negative',\n",
              " '45946 _  Extremely Negative': 'Negative',\n",
              " '45947 _  Negative': 'Negative',\n",
              " '45948 _  Positive': 'Positive',\n",
              " '45949 _  Positive': 'Positive',\n",
              " '45950 _  Positive': 'Positive',\n",
              " '45951 _  Positive': 'Positive',\n",
              " '45952 _  Extremely Negative': 'Negative',\n",
              " ...}"
            ]
          },
          "metadata": {
            "tags": []
          },
          "execution_count": 199
        }
      ]
    },
    {
      "cell_type": "code",
      "metadata": {
        "id": "j0Y8S-xKHISz"
      },
      "source": [
        "results_lits = {}\n",
        "def predict_sentiment(text,UserName,sentiment):\n",
        "  test_seq = tokenizer.texts_to_sequences(text)\n",
        "  padded =  pad_sequences(test_seq,maxlen=maxlen,padding='post',truncating='post')\n",
        "  if padded.shape[0] > 0:\n",
        "    pred = model.predict(padded)\n",
        "    # print(pred)\n",
        "    key =  f\"{UserName} _  {sentiment}\"\n",
        "    results_lits[key] = labels[np.argmax(pred.shape[1])]"
      ],
      "execution_count": 200,
      "outputs": []
    },
    {
      "cell_type": "code",
      "metadata": {
        "id": "TI1UKBVoG3jY"
      },
      "source": [
        "for index in range(test_cleaned_data.shape[0]):\n",
        "  text = test_cleaned_data.iloc[index]['OriginalTweet_cleaned']\n",
        "  print(text)\n",
        "  userName = test_cleaned_data.iloc[index]['UserName']\n",
        "  sentiment = test_cleaned_data.iloc[index]['Sentiment'] \n",
        "  predict_sentiment(text,userName,sentiment)\n",
        "  break\n"
      ],
      "execution_count": null,
      "outputs": []
    },
    {
      "cell_type": "code",
      "metadata": {
        "id": "1IZp-W4_NEWt"
      },
      "source": [
        "def test_clean_text(text):\n",
        "  \"\"\"Clean testing data and normalize data\"\"\"\n",
        "  url_removed_data = remove_urls(text)\n",
        "  final_senteance = []\n",
        "  lemmatizer = nltk.stem.WordNetLemmatizer()\n",
        "  stop_words = stopwords.words('english')\n",
        "  word_token = word_tokenize(url_removed_data)\n",
        "  normalized_words = normalize(word_token)\n",
        "  filtered_sentence_ = []\n",
        "  filtered_sentence = ' '\n",
        "  for w in normalized_words:  \n",
        "      if w not in stop_words:  \n",
        "        lemmatized_word = lemmatizer.lemmatize(w)\n",
        "        filtered_sentence_.append(lemmatized_word)\n",
        "  final_sentence = filtered_sentence.join(filtered_sentence_)\n",
        "  final_senteance.append(final_sentence)\n",
        "  return final_senteance"
      ],
      "execution_count": 202,
      "outputs": []
    },
    {
      "cell_type": "code",
      "metadata": {
        "colab": {
          "base_uri": "https://localhost:8080/"
        },
        "id": "jmO1E5kWDk2r",
        "outputId": "755938f6-20eb-4024-bcb2-5eec10d875c8"
      },
      "source": [
        "text = test_data['OriginalTweet'].values[0]\n",
        "print(text)\n",
        "text = test_clean_text(text)\n",
        "# text = test_cleaned_data.iloc[0]['OriginalTweet_cleaned']\n",
        "print(text)\n",
        "test_seq = tokenizer.texts_to_sequences(text)\n",
        "padded =  pad_sequences(test_seq,maxlen=maxlen,padding='post',truncating='post')\n",
        "pred = model.predict(padded)[0]\n",
        "print(labels[np.argmax(pred)])"
      ],
      "execution_count": 203,
      "outputs": [
        {
          "output_type": "stream",
          "text": [
            "TRENDING: New Yorkers encounter empty supermarket shelves (pictured, Wegmans in Brooklyn), sold-out online grocers (FoodKick, MaxDelivery) as #coronavirus-fearing shoppers stock up https://t.co/Gr76pcrLWh https://t.co/ivMKMsqdT1\n",
            "['trending new yorkers encounter empty supermarket shelf pictured wegmans brooklyn soldout online grocer foodkick maxdelivery coronavirusfearing shopper stock']\n",
            "Neutral\n"
          ],
          "name": "stdout"
        }
      ]
    },
    {
      "cell_type": "markdown",
      "metadata": {
        "id": "a-00CX91RMII"
      },
      "source": [
        "****"
      ]
    },
    {
      "cell_type": "markdown",
      "metadata": {
        "id": "CQ6Xwxr0RQQw"
      },
      "source": [
        "**MultinomialNB**\n",
        "*   Sentiment analysis using MultinomialNB\n",
        "*   Transforming data using CountVectorizer, and TF-IDF\n",
        "*   GridsearchCV for hyper-parameter tuning."
      ]
    },
    {
      "cell_type": "code",
      "metadata": {
        "id": "ZkIVCa7uShF1"
      },
      "source": [
        "from sklearn.pipeline import Pipeline\n",
        "from sklearn.naive_bayes import MultinomialNB\n",
        "from sklearn.feature_extraction.text import CountVectorizer, TfidfTransformer\n",
        "from sklearn.model_selection import train_test_split, GridSearchCV\n",
        "\n",
        "from sklearn.metrics import classification_report,accuracy_score\n",
        "\n",
        "X = cleaned_data.OriginalTweet_cleaned.values\n",
        "y = cleaned_data.Sentiment.values\n",
        "nb_x_train, nb_x_test, nb_y_train, nb_y_test = train_test_split(X, y, test_size=0.33, random_state=42)\n",
        "\n",
        "\n",
        "text_clf = Pipeline([('vect', CountVectorizer()),\n",
        "                     ('tfidf', TfidfTransformer()),\n",
        "                     ('clf', MultinomialNB())])\n",
        "\n",
        "tuned_parameters = {\n",
        "    'vect__ngram_range': [(1, 1), (1, 2), (2, 2)],\n",
        "    'tfidf__use_idf': (True, False),\n",
        "    'tfidf__norm': ('l1', 'l2'),\n",
        "    'clf__alpha': [1, 1e-1, 1e-2]\n",
        "}"
      ],
      "execution_count": 78,
      "outputs": []
    },
    {
      "cell_type": "code",
      "metadata": {
        "colab": {
          "base_uri": "https://localhost:8080/"
        },
        "id": "-lqd3MaewSAR",
        "outputId": "ef5f62e3-bee0-44e5-e18b-aeca64d68bfa"
      },
      "source": [
        "clf = GridSearchCV(text_clf, tuned_parameters, cv=10, scoring='accuracy')\n",
        "clf.fit(nb_x_train, nb_y_train)\n",
        "print(classification_report(nb_y_test, clf.predict(nb_x_test), digits=4))\n"
      ],
      "execution_count": 81,
      "outputs": [
        {
          "output_type": "stream",
          "text": [
            "              precision    recall  f1-score   support\n",
            "\n",
            "           0     0.3955    0.7090    0.5078      3821\n",
            "           1     0.4060    0.5145    0.4539      3300\n",
            "           2     0.6954    0.3237    0.4417      2518\n",
            "           3     0.6247    0.2333    0.3398      2190\n",
            "           4     0.6613    0.2116    0.3207      1753\n",
            "\n",
            "    accuracy                         0.4494     13582\n",
            "   macro avg     0.5566    0.3984    0.4128     13582\n",
            "weighted avg     0.5249    0.4494    0.4312     13582\n",
            "\n"
          ],
          "name": "stdout"
        }
      ]
    },
    {
      "cell_type": "code",
      "metadata": {
        "colab": {
          "base_uri": "https://localhost:8080/"
        },
        "id": "ocHY2HfoxChM",
        "outputId": "571ad383-3370-4802-9003-905be0d17905"
      },
      "source": [
        "accuracy_score(nb_y_test, clf.predict(nb_x_test))"
      ],
      "execution_count": 82,
      "outputs": [
        {
          "output_type": "execute_result",
          "data": {
            "text/plain": [
              "0.44941834781328227"
            ]
          },
          "metadata": {
            "tags": []
          },
          "execution_count": 82
        }
      ]
    },
    {
      "cell_type": "code",
      "metadata": {
        "id": "EPn9PBIJ2PrF"
      },
      "source": [
        ""
      ],
      "execution_count": null,
      "outputs": []
    }
  ]
}